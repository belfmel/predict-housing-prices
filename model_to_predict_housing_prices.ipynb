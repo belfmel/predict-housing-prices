{
 "cells": [
  {
   "cell_type": "markdown",
   "metadata": {},
   "source": [
    "# Model to Predict Housing\n",
    "\n",
    "**Melissa Belfer**\n"
   ]
  },
  {
   "cell_type": "markdown",
   "metadata": {},
   "source": [
    "# Index\n",
    "\n",
    "- [Abstract](#Abstract)\n",
    "- [1. Introduction](#1.-Introduction)\n",
    "- [2. The Data](#2.-The-Data)\n",
    "    - [2.1 Import the Data](#2.1-Import-the-Data)\n",
    "    - [2.2 Data Exploration](#2.2-Data-Exploration)\n",
    "    - [2.3 Data Preparation](#2.3-Data-Preparation)\n",
    "    - [2.4 Correlation](#2.4-Correlation)\n",
    "- [3. Project Description](#3.-Project-Description)\n",
    "    - [3.1 Linear Regression](#3.1-Linear-Regression)\n",
    "    - [3.2 Analysis](#3.2-Analysis)\n",
    "    - [3.3 Results](#3.3-Results)\n",
    "    - [3.4 Verify Your Model Against Test Data](#3.4-Verify-Your-Model-Against-Test-Data)\n",
    "- [Conclusion](#Conclusion)\n",
    "- [References](#References)"
   ]
  },
  {
   "cell_type": "markdown",
   "metadata": {},
   "source": [
    "[Back to top](#Index)\n",
    "\n",
    "\n",
    "##  Abstract\n",
    "\n",
    "For my analysis, I used columns from the dataset that contained over a 0.65 correlation to the sale price column.  I used different combinations of those independent variables to train linear regression models.  After analyzing the results of the scores of those models, I learned that just by increasing the amount of independent variables added to the model does not mean the score will go up.  There was a point that the score of the model went down with independent variables added.  There was a score of 0.78 for the final model used against the test dataset.\n",
    "\n",
    "The linear regression equation for the model is below:\n",
    "\n",
    "SalePrice = (17665.26545183 * OverallQual) + (25624.99501943 * ExterQual) + (41.07489011 * GrLivArea) + (79.59400665 * GarageArea) + (10179.51947658 * KitchenQual) + (-8875.89573741 * GarageCars) + -132883.48735087246\n"
   ]
  },
  {
   "cell_type": "markdown",
   "metadata": {},
   "source": [
    "[Back to top](#Index)\n",
    "\n",
    "\n",
    "## 1. Introduction\n",
    "\n",
    "The problem I am trying to solve is predicting the sale price of houses.  I will do this by analyzing data, cleaning data, and building a linear regression model.  This will first involve reading in the dataset into a Pandas DataFrame for analysis.  After analyzing the columns and understanding what each column does, then I will focus on cleaning the dataset.  In order to clean the dataset I will convert any column that are category based that might be correlated to the sale price to a numeric column.  I will then look for null values in the columns.  I will either interpolate the columns that contain missing fields by replacing them with the average values or eliminating the column if the majority of the fields are missing.  Then I will get the correlation of the columns against the sale price column and choose the columns that have the strongest correlation to use for my model.  This is because the sale price column is the dependent variable in my linear regression model, and the columns with the highest correlation will be my independent variables in my model.  I will then select a few different sets of columns and create a linear regression model on those different sets of columns using the training dataset.  I will then compare the scores of those models to see what combination of independent variables produce the best score when applied on the test dataset.  This will result in a final model that can be used to predict sale prices of houses.\n",
    "\n",
    "\n"
   ]
  },
  {
   "cell_type": "markdown",
   "metadata": {},
   "source": [
    "[Back to top](#Index)\n",
    "\n",
    "## 2. The Data\n"
   ]
  },
  {
   "cell_type": "markdown",
   "metadata": {},
   "source": [
    "[Back to top](#Index)\n",
    "\n",
    "### 2.1 Import the Data\n"
   ]
  },
  {
   "cell_type": "markdown",
   "metadata": {},
   "source": [
    "The libraries that I will use to create a linear regression model from a dataset are pandas, numpy, matplotlib, seaborn, and sklearn.  "
   ]
  },
  {
   "cell_type": "code",
   "execution_count": 345,
   "metadata": {},
   "outputs": [],
   "source": [
    "import pandas as pd\n",
    "import numpy as np\n",
    "import matplotlib.pyplot as plt\n",
    "import seaborn as sns\n",
    "from sklearn import linear_model"
   ]
  },
  {
   "cell_type": "markdown",
   "metadata": {},
   "source": [
    "The input data that will be used to train the model is coming from the csv _'houseSmallData.csv'_.  The input data contains 100 rows and 82 columns."
   ]
  },
  {
   "cell_type": "code",
   "execution_count": 346,
   "metadata": {},
   "outputs": [
    {
     "data": {
      "text/html": [
       "<div>\n",
       "<style scoped>\n",
       "    .dataframe tbody tr th:only-of-type {\n",
       "        vertical-align: middle;\n",
       "    }\n",
       "\n",
       "    .dataframe tbody tr th {\n",
       "        vertical-align: top;\n",
       "    }\n",
       "\n",
       "    .dataframe thead th {\n",
       "        text-align: right;\n",
       "    }\n",
       "</style>\n",
       "<table border=\"1\" class=\"dataframe\">\n",
       "  <thead>\n",
       "    <tr style=\"text-align: right;\">\n",
       "      <th></th>\n",
       "      <th>Unnamed: 0</th>\n",
       "      <th>Id</th>\n",
       "      <th>MSSubClass</th>\n",
       "      <th>MSZoning</th>\n",
       "      <th>LotFrontage</th>\n",
       "      <th>LotArea</th>\n",
       "      <th>Street</th>\n",
       "      <th>Alley</th>\n",
       "      <th>LotShape</th>\n",
       "      <th>LandContour</th>\n",
       "      <th>...</th>\n",
       "      <th>PoolArea</th>\n",
       "      <th>PoolQC</th>\n",
       "      <th>Fence</th>\n",
       "      <th>MiscFeature</th>\n",
       "      <th>MiscVal</th>\n",
       "      <th>MoSold</th>\n",
       "      <th>YrSold</th>\n",
       "      <th>SaleType</th>\n",
       "      <th>SaleCondition</th>\n",
       "      <th>SalePrice</th>\n",
       "    </tr>\n",
       "  </thead>\n",
       "  <tbody>\n",
       "    <tr>\n",
       "      <th>0</th>\n",
       "      <td>0</td>\n",
       "      <td>1</td>\n",
       "      <td>60</td>\n",
       "      <td>RL</td>\n",
       "      <td>65.0</td>\n",
       "      <td>8450</td>\n",
       "      <td>Pave</td>\n",
       "      <td>NaN</td>\n",
       "      <td>Reg</td>\n",
       "      <td>Lvl</td>\n",
       "      <td>...</td>\n",
       "      <td>0</td>\n",
       "      <td>NaN</td>\n",
       "      <td>NaN</td>\n",
       "      <td>NaN</td>\n",
       "      <td>0</td>\n",
       "      <td>2</td>\n",
       "      <td>2008</td>\n",
       "      <td>WD</td>\n",
       "      <td>Normal</td>\n",
       "      <td>208500</td>\n",
       "    </tr>\n",
       "    <tr>\n",
       "      <th>1</th>\n",
       "      <td>1</td>\n",
       "      <td>2</td>\n",
       "      <td>20</td>\n",
       "      <td>RL</td>\n",
       "      <td>80.0</td>\n",
       "      <td>9600</td>\n",
       "      <td>Pave</td>\n",
       "      <td>NaN</td>\n",
       "      <td>Reg</td>\n",
       "      <td>Lvl</td>\n",
       "      <td>...</td>\n",
       "      <td>0</td>\n",
       "      <td>NaN</td>\n",
       "      <td>NaN</td>\n",
       "      <td>NaN</td>\n",
       "      <td>0</td>\n",
       "      <td>5</td>\n",
       "      <td>2007</td>\n",
       "      <td>WD</td>\n",
       "      <td>Normal</td>\n",
       "      <td>181500</td>\n",
       "    </tr>\n",
       "    <tr>\n",
       "      <th>2</th>\n",
       "      <td>2</td>\n",
       "      <td>3</td>\n",
       "      <td>60</td>\n",
       "      <td>RL</td>\n",
       "      <td>68.0</td>\n",
       "      <td>11250</td>\n",
       "      <td>Pave</td>\n",
       "      <td>NaN</td>\n",
       "      <td>IR1</td>\n",
       "      <td>Lvl</td>\n",
       "      <td>...</td>\n",
       "      <td>0</td>\n",
       "      <td>NaN</td>\n",
       "      <td>NaN</td>\n",
       "      <td>NaN</td>\n",
       "      <td>0</td>\n",
       "      <td>9</td>\n",
       "      <td>2008</td>\n",
       "      <td>WD</td>\n",
       "      <td>Normal</td>\n",
       "      <td>223500</td>\n",
       "    </tr>\n",
       "    <tr>\n",
       "      <th>3</th>\n",
       "      <td>3</td>\n",
       "      <td>4</td>\n",
       "      <td>70</td>\n",
       "      <td>RL</td>\n",
       "      <td>60.0</td>\n",
       "      <td>9550</td>\n",
       "      <td>Pave</td>\n",
       "      <td>NaN</td>\n",
       "      <td>IR1</td>\n",
       "      <td>Lvl</td>\n",
       "      <td>...</td>\n",
       "      <td>0</td>\n",
       "      <td>NaN</td>\n",
       "      <td>NaN</td>\n",
       "      <td>NaN</td>\n",
       "      <td>0</td>\n",
       "      <td>2</td>\n",
       "      <td>2006</td>\n",
       "      <td>WD</td>\n",
       "      <td>Abnorml</td>\n",
       "      <td>140000</td>\n",
       "    </tr>\n",
       "    <tr>\n",
       "      <th>4</th>\n",
       "      <td>4</td>\n",
       "      <td>5</td>\n",
       "      <td>60</td>\n",
       "      <td>RL</td>\n",
       "      <td>84.0</td>\n",
       "      <td>14260</td>\n",
       "      <td>Pave</td>\n",
       "      <td>NaN</td>\n",
       "      <td>IR1</td>\n",
       "      <td>Lvl</td>\n",
       "      <td>...</td>\n",
       "      <td>0</td>\n",
       "      <td>NaN</td>\n",
       "      <td>NaN</td>\n",
       "      <td>NaN</td>\n",
       "      <td>0</td>\n",
       "      <td>12</td>\n",
       "      <td>2008</td>\n",
       "      <td>WD</td>\n",
       "      <td>Normal</td>\n",
       "      <td>250000</td>\n",
       "    </tr>\n",
       "    <tr>\n",
       "      <th>...</th>\n",
       "      <td>...</td>\n",
       "      <td>...</td>\n",
       "      <td>...</td>\n",
       "      <td>...</td>\n",
       "      <td>...</td>\n",
       "      <td>...</td>\n",
       "      <td>...</td>\n",
       "      <td>...</td>\n",
       "      <td>...</td>\n",
       "      <td>...</td>\n",
       "      <td>...</td>\n",
       "      <td>...</td>\n",
       "      <td>...</td>\n",
       "      <td>...</td>\n",
       "      <td>...</td>\n",
       "      <td>...</td>\n",
       "      <td>...</td>\n",
       "      <td>...</td>\n",
       "      <td>...</td>\n",
       "      <td>...</td>\n",
       "      <td>...</td>\n",
       "    </tr>\n",
       "    <tr>\n",
       "      <th>95</th>\n",
       "      <td>95</td>\n",
       "      <td>96</td>\n",
       "      <td>60</td>\n",
       "      <td>RL</td>\n",
       "      <td>NaN</td>\n",
       "      <td>9765</td>\n",
       "      <td>Pave</td>\n",
       "      <td>NaN</td>\n",
       "      <td>IR2</td>\n",
       "      <td>Lvl</td>\n",
       "      <td>...</td>\n",
       "      <td>0</td>\n",
       "      <td>NaN</td>\n",
       "      <td>NaN</td>\n",
       "      <td>Shed</td>\n",
       "      <td>480</td>\n",
       "      <td>4</td>\n",
       "      <td>2009</td>\n",
       "      <td>WD</td>\n",
       "      <td>Normal</td>\n",
       "      <td>185000</td>\n",
       "    </tr>\n",
       "    <tr>\n",
       "      <th>96</th>\n",
       "      <td>96</td>\n",
       "      <td>97</td>\n",
       "      <td>20</td>\n",
       "      <td>RL</td>\n",
       "      <td>78.0</td>\n",
       "      <td>10264</td>\n",
       "      <td>Pave</td>\n",
       "      <td>NaN</td>\n",
       "      <td>IR1</td>\n",
       "      <td>Lvl</td>\n",
       "      <td>...</td>\n",
       "      <td>0</td>\n",
       "      <td>NaN</td>\n",
       "      <td>NaN</td>\n",
       "      <td>NaN</td>\n",
       "      <td>0</td>\n",
       "      <td>8</td>\n",
       "      <td>2006</td>\n",
       "      <td>WD</td>\n",
       "      <td>Normal</td>\n",
       "      <td>214000</td>\n",
       "    </tr>\n",
       "    <tr>\n",
       "      <th>97</th>\n",
       "      <td>97</td>\n",
       "      <td>98</td>\n",
       "      <td>20</td>\n",
       "      <td>RL</td>\n",
       "      <td>73.0</td>\n",
       "      <td>10921</td>\n",
       "      <td>Pave</td>\n",
       "      <td>NaN</td>\n",
       "      <td>Reg</td>\n",
       "      <td>HLS</td>\n",
       "      <td>...</td>\n",
       "      <td>0</td>\n",
       "      <td>NaN</td>\n",
       "      <td>NaN</td>\n",
       "      <td>NaN</td>\n",
       "      <td>0</td>\n",
       "      <td>5</td>\n",
       "      <td>2007</td>\n",
       "      <td>WD</td>\n",
       "      <td>Normal</td>\n",
       "      <td>94750</td>\n",
       "    </tr>\n",
       "    <tr>\n",
       "      <th>98</th>\n",
       "      <td>98</td>\n",
       "      <td>99</td>\n",
       "      <td>30</td>\n",
       "      <td>RL</td>\n",
       "      <td>85.0</td>\n",
       "      <td>10625</td>\n",
       "      <td>Pave</td>\n",
       "      <td>NaN</td>\n",
       "      <td>Reg</td>\n",
       "      <td>Lvl</td>\n",
       "      <td>...</td>\n",
       "      <td>0</td>\n",
       "      <td>NaN</td>\n",
       "      <td>NaN</td>\n",
       "      <td>Shed</td>\n",
       "      <td>400</td>\n",
       "      <td>5</td>\n",
       "      <td>2010</td>\n",
       "      <td>COD</td>\n",
       "      <td>Abnorml</td>\n",
       "      <td>83000</td>\n",
       "    </tr>\n",
       "    <tr>\n",
       "      <th>99</th>\n",
       "      <td>99</td>\n",
       "      <td>100</td>\n",
       "      <td>20</td>\n",
       "      <td>RL</td>\n",
       "      <td>77.0</td>\n",
       "      <td>9320</td>\n",
       "      <td>Pave</td>\n",
       "      <td>NaN</td>\n",
       "      <td>IR1</td>\n",
       "      <td>Lvl</td>\n",
       "      <td>...</td>\n",
       "      <td>0</td>\n",
       "      <td>NaN</td>\n",
       "      <td>NaN</td>\n",
       "      <td>Shed</td>\n",
       "      <td>400</td>\n",
       "      <td>1</td>\n",
       "      <td>2010</td>\n",
       "      <td>WD</td>\n",
       "      <td>Normal</td>\n",
       "      <td>128950</td>\n",
       "    </tr>\n",
       "  </tbody>\n",
       "</table>\n",
       "<p>100 rows × 82 columns</p>\n",
       "</div>"
      ],
      "text/plain": [
       "    Unnamed: 0   Id  MSSubClass MSZoning  LotFrontage  LotArea Street Alley  \\\n",
       "0            0    1          60       RL         65.0     8450   Pave   NaN   \n",
       "1            1    2          20       RL         80.0     9600   Pave   NaN   \n",
       "2            2    3          60       RL         68.0    11250   Pave   NaN   \n",
       "3            3    4          70       RL         60.0     9550   Pave   NaN   \n",
       "4            4    5          60       RL         84.0    14260   Pave   NaN   \n",
       "..         ...  ...         ...      ...          ...      ...    ...   ...   \n",
       "95          95   96          60       RL          NaN     9765   Pave   NaN   \n",
       "96          96   97          20       RL         78.0    10264   Pave   NaN   \n",
       "97          97   98          20       RL         73.0    10921   Pave   NaN   \n",
       "98          98   99          30       RL         85.0    10625   Pave   NaN   \n",
       "99          99  100          20       RL         77.0     9320   Pave   NaN   \n",
       "\n",
       "   LotShape LandContour  ... PoolArea PoolQC Fence MiscFeature MiscVal MoSold  \\\n",
       "0       Reg         Lvl  ...        0    NaN   NaN         NaN       0      2   \n",
       "1       Reg         Lvl  ...        0    NaN   NaN         NaN       0      5   \n",
       "2       IR1         Lvl  ...        0    NaN   NaN         NaN       0      9   \n",
       "3       IR1         Lvl  ...        0    NaN   NaN         NaN       0      2   \n",
       "4       IR1         Lvl  ...        0    NaN   NaN         NaN       0     12   \n",
       "..      ...         ...  ...      ...    ...   ...         ...     ...    ...   \n",
       "95      IR2         Lvl  ...        0    NaN   NaN        Shed     480      4   \n",
       "96      IR1         Lvl  ...        0    NaN   NaN         NaN       0      8   \n",
       "97      Reg         HLS  ...        0    NaN   NaN         NaN       0      5   \n",
       "98      Reg         Lvl  ...        0    NaN   NaN        Shed     400      5   \n",
       "99      IR1         Lvl  ...        0    NaN   NaN        Shed     400      1   \n",
       "\n",
       "   YrSold SaleType  SaleCondition  SalePrice  \n",
       "0    2008       WD         Normal     208500  \n",
       "1    2007       WD         Normal     181500  \n",
       "2    2008       WD         Normal     223500  \n",
       "3    2006       WD        Abnorml     140000  \n",
       "4    2008       WD         Normal     250000  \n",
       "..    ...      ...            ...        ...  \n",
       "95   2009       WD         Normal     185000  \n",
       "96   2006       WD         Normal     214000  \n",
       "97   2007       WD         Normal      94750  \n",
       "98   2010      COD        Abnorml      83000  \n",
       "99   2010       WD         Normal     128950  \n",
       "\n",
       "[100 rows x 82 columns]"
      ]
     },
     "execution_count": 346,
     "metadata": {},
     "output_type": "execute_result"
    }
   ],
   "source": [
    "# Reading in the dataset that will be used to train our model\n",
    "input_file = 'houseSmallData.csv'\n",
    "data = pd.read_csv(input_file)\n",
    "\n",
    "data\n"
   ]
  },
  {
   "cell_type": "code",
   "execution_count": 347,
   "metadata": {},
   "outputs": [
    {
     "data": {
      "text/plain": [
       "(100, 82)"
      ]
     },
     "execution_count": 347,
     "metadata": {},
     "output_type": "execute_result"
    }
   ],
   "source": [
    "# The input data contains 100 rows and 82 columns\n",
    "data.shape"
   ]
  },
  {
   "cell_type": "code",
   "execution_count": 348,
   "metadata": {},
   "outputs": [
    {
     "name": "stdout",
     "output_type": "stream",
     "text": [
      "<class 'pandas.core.frame.DataFrame'>\n",
      "RangeIndex: 100 entries, 0 to 99\n",
      "Data columns (total 82 columns):\n",
      " #   Column         Non-Null Count  Dtype  \n",
      "---  ------         --------------  -----  \n",
      " 0   Unnamed: 0     100 non-null    int64  \n",
      " 1   Id             100 non-null    int64  \n",
      " 2   MSSubClass     100 non-null    int64  \n",
      " 3   MSZoning       100 non-null    object \n",
      " 4   LotFrontage    86 non-null     float64\n",
      " 5   LotArea        100 non-null    int64  \n",
      " 6   Street         100 non-null    object \n",
      " 7   Alley          6 non-null      object \n",
      " 8   LotShape       100 non-null    object \n",
      " 9   LandContour    100 non-null    object \n",
      " 10  Utilities      100 non-null    object \n",
      " 11  LotConfig      100 non-null    object \n",
      " 12  LandSlope      100 non-null    object \n",
      " 13  Neighborhood   100 non-null    object \n",
      " 14  Condition1     100 non-null    object \n",
      " 15  Condition2     100 non-null    object \n",
      " 16  BldgType       100 non-null    object \n",
      " 17  HouseStyle     100 non-null    object \n",
      " 18  OverallQual    100 non-null    int64  \n",
      " 19  OverallCond    100 non-null    int64  \n",
      " 20  YearBuilt      100 non-null    int64  \n",
      " 21  YearRemodAdd   100 non-null    int64  \n",
      " 22  RoofStyle      100 non-null    object \n",
      " 23  RoofMatl       100 non-null    object \n",
      " 24  Exterior1st    100 non-null    object \n",
      " 25  Exterior2nd    100 non-null    object \n",
      " 26  MasVnrType     100 non-null    object \n",
      " 27  MasVnrArea     100 non-null    float64\n",
      " 28  ExterQual      100 non-null    object \n",
      " 29  ExterCond      100 non-null    object \n",
      " 30  Foundation     100 non-null    object \n",
      " 31  BsmtQual       97 non-null     object \n",
      " 32  BsmtCond       97 non-null     object \n",
      " 33  BsmtExposure   97 non-null     object \n",
      " 34  BsmtFinType1   97 non-null     object \n",
      " 35  BsmtFinSF1     100 non-null    int64  \n",
      " 36  BsmtFinType2   97 non-null     object \n",
      " 37  BsmtFinSF2     100 non-null    int64  \n",
      " 38  BsmtUnfSF      100 non-null    int64  \n",
      " 39  TotalBsmtSF    100 non-null    int64  \n",
      " 40  Heating        100 non-null    object \n",
      " 41  HeatingQC      100 non-null    object \n",
      " 42  CentralAir     100 non-null    object \n",
      " 43  Electrical     100 non-null    object \n",
      " 44  1stFlrSF       100 non-null    int64  \n",
      " 45  2ndFlrSF       100 non-null    int64  \n",
      " 46  LowQualFinSF   100 non-null    int64  \n",
      " 47  GrLivArea      100 non-null    int64  \n",
      " 48  BsmtFullBath   100 non-null    int64  \n",
      " 49  BsmtHalfBath   100 non-null    int64  \n",
      " 50  FullBath       100 non-null    int64  \n",
      " 51  HalfBath       100 non-null    int64  \n",
      " 52  BedroomAbvGr   100 non-null    int64  \n",
      " 53  KitchenAbvGr   100 non-null    int64  \n",
      " 54  KitchenQual    100 non-null    object \n",
      " 55  TotRmsAbvGrd   100 non-null    int64  \n",
      " 56  Functional     100 non-null    object \n",
      " 57  Fireplaces     100 non-null    int64  \n",
      " 58  FireplaceQu    46 non-null     object \n",
      " 59  GarageType     94 non-null     object \n",
      " 60  GarageYrBlt    94 non-null     float64\n",
      " 61  GarageFinish   94 non-null     object \n",
      " 62  GarageCars     100 non-null    int64  \n",
      " 63  GarageArea     100 non-null    int64  \n",
      " 64  GarageQual     94 non-null     object \n",
      " 65  GarageCond     94 non-null     object \n",
      " 66  PavedDrive     100 non-null    object \n",
      " 67  WoodDeckSF     100 non-null    int64  \n",
      " 68  OpenPorchSF    100 non-null    int64  \n",
      " 69  EnclosedPorch  100 non-null    int64  \n",
      " 70  3SsnPorch      100 non-null    int64  \n",
      " 71  ScreenPorch    100 non-null    int64  \n",
      " 72  PoolArea       100 non-null    int64  \n",
      " 73  PoolQC         0 non-null      float64\n",
      " 74  Fence          23 non-null     object \n",
      " 75  MiscFeature    9 non-null      object \n",
      " 76  MiscVal        100 non-null    int64  \n",
      " 77  MoSold         100 non-null    int64  \n",
      " 78  YrSold         100 non-null    int64  \n",
      " 79  SaleType       100 non-null    object \n",
      " 80  SaleCondition  100 non-null    object \n",
      " 81  SalePrice      100 non-null    int64  \n",
      "dtypes: float64(4), int64(36), object(42)\n",
      "memory usage: 64.2+ KB\n"
     ]
    }
   ],
   "source": [
    "# Using the info function we are able to look at the count of null values and the data type associated with each column\n",
    "data.info()"
   ]
  },
  {
   "cell_type": "markdown",
   "metadata": {},
   "source": [
    "I am able to sum the rows per column that contain null data.  By sorting this in descending order, I can show in the dataframe below what columns contain the most null values.  This will help me determine how I want to clean the data."
   ]
  },
  {
   "cell_type": "code",
   "execution_count": 349,
   "metadata": {},
   "outputs": [
    {
     "data": {
      "text/html": [
       "<div>\n",
       "<style scoped>\n",
       "    .dataframe tbody tr th:only-of-type {\n",
       "        vertical-align: middle;\n",
       "    }\n",
       "\n",
       "    .dataframe tbody tr th {\n",
       "        vertical-align: top;\n",
       "    }\n",
       "\n",
       "    .dataframe thead th {\n",
       "        text-align: right;\n",
       "    }\n",
       "</style>\n",
       "<table border=\"1\" class=\"dataframe\">\n",
       "  <thead>\n",
       "    <tr style=\"text-align: right;\">\n",
       "      <th></th>\n",
       "      <th>0</th>\n",
       "    </tr>\n",
       "  </thead>\n",
       "  <tbody>\n",
       "    <tr>\n",
       "      <th>PoolQC</th>\n",
       "      <td>100</td>\n",
       "    </tr>\n",
       "    <tr>\n",
       "      <th>Alley</th>\n",
       "      <td>94</td>\n",
       "    </tr>\n",
       "    <tr>\n",
       "      <th>MiscFeature</th>\n",
       "      <td>91</td>\n",
       "    </tr>\n",
       "    <tr>\n",
       "      <th>Fence</th>\n",
       "      <td>77</td>\n",
       "    </tr>\n",
       "    <tr>\n",
       "      <th>FireplaceQu</th>\n",
       "      <td>54</td>\n",
       "    </tr>\n",
       "    <tr>\n",
       "      <th>...</th>\n",
       "      <td>...</td>\n",
       "    </tr>\n",
       "    <tr>\n",
       "      <th>MasVnrType</th>\n",
       "      <td>0</td>\n",
       "    </tr>\n",
       "    <tr>\n",
       "      <th>Exterior2nd</th>\n",
       "      <td>0</td>\n",
       "    </tr>\n",
       "    <tr>\n",
       "      <th>Exterior1st</th>\n",
       "      <td>0</td>\n",
       "    </tr>\n",
       "    <tr>\n",
       "      <th>RoofMatl</th>\n",
       "      <td>0</td>\n",
       "    </tr>\n",
       "    <tr>\n",
       "      <th>SalePrice</th>\n",
       "      <td>0</td>\n",
       "    </tr>\n",
       "  </tbody>\n",
       "</table>\n",
       "<p>82 rows × 1 columns</p>\n",
       "</div>"
      ],
      "text/plain": [
       "               0\n",
       "PoolQC       100\n",
       "Alley         94\n",
       "MiscFeature   91\n",
       "Fence         77\n",
       "FireplaceQu   54\n",
       "...          ...\n",
       "MasVnrType     0\n",
       "Exterior2nd    0\n",
       "Exterior1st    0\n",
       "RoofMatl       0\n",
       "SalePrice      0\n",
       "\n",
       "[82 rows x 1 columns]"
      ]
     },
     "execution_count": 349,
     "metadata": {},
     "output_type": "execute_result"
    }
   ],
   "source": [
    "nulls = pd.DataFrame(data.isnull().sum().sort_values(ascending=False))\n",
    "nulls"
   ]
  },
  {
   "cell_type": "markdown",
   "metadata": {},
   "source": [
    "[Back to top](#Index)\n",
    "\n",
    "### 2.2 Data Exploration\n",
    "\n"
   ]
  },
  {
   "cell_type": "code",
   "execution_count": 350,
   "metadata": {},
   "outputs": [],
   "source": [
    "# Extracting the data from the SalePrice column\n",
    "salePrice = data['SalePrice']"
   ]
  },
  {
   "cell_type": "markdown",
   "metadata": {},
   "source": [
    "The below code takes the SalePrice data from the input dataframe and calculates the statistics of mean, std, min, max, etc and puts it in a table."
   ]
  },
  {
   "cell_type": "code",
   "execution_count": 351,
   "metadata": {},
   "outputs": [
    {
     "data": {
      "text/html": [
       "<div>\n",
       "<style scoped>\n",
       "    .dataframe tbody tr th:only-of-type {\n",
       "        vertical-align: middle;\n",
       "    }\n",
       "\n",
       "    .dataframe tbody tr th {\n",
       "        vertical-align: top;\n",
       "    }\n",
       "\n",
       "    .dataframe thead th {\n",
       "        text-align: right;\n",
       "    }\n",
       "</style>\n",
       "<table border=\"1\" class=\"dataframe\">\n",
       "  <thead>\n",
       "    <tr style=\"text-align: right;\">\n",
       "      <th></th>\n",
       "      <th>SalePrice</th>\n",
       "    </tr>\n",
       "  </thead>\n",
       "  <tbody>\n",
       "    <tr>\n",
       "      <th>count</th>\n",
       "      <td>100.000000</td>\n",
       "    </tr>\n",
       "    <tr>\n",
       "      <th>mean</th>\n",
       "      <td>173820.660000</td>\n",
       "    </tr>\n",
       "    <tr>\n",
       "      <th>std</th>\n",
       "      <td>72236.552886</td>\n",
       "    </tr>\n",
       "    <tr>\n",
       "      <th>min</th>\n",
       "      <td>40000.000000</td>\n",
       "    </tr>\n",
       "    <tr>\n",
       "      <th>25%</th>\n",
       "      <td>129362.500000</td>\n",
       "    </tr>\n",
       "    <tr>\n",
       "      <th>50%</th>\n",
       "      <td>153750.000000</td>\n",
       "    </tr>\n",
       "    <tr>\n",
       "      <th>75%</th>\n",
       "      <td>207750.000000</td>\n",
       "    </tr>\n",
       "    <tr>\n",
       "      <th>max</th>\n",
       "      <td>438780.000000</td>\n",
       "    </tr>\n",
       "  </tbody>\n",
       "</table>\n",
       "</div>"
      ],
      "text/plain": [
       "           SalePrice\n",
       "count     100.000000\n",
       "mean   173820.660000\n",
       "std     72236.552886\n",
       "min     40000.000000\n",
       "25%    129362.500000\n",
       "50%    153750.000000\n",
       "75%    207750.000000\n",
       "max    438780.000000"
      ]
     },
     "execution_count": 351,
     "metadata": {},
     "output_type": "execute_result"
    }
   ],
   "source": [
    "pd.DataFrame(salePrice.describe())"
   ]
  },
  {
   "cell_type": "markdown",
   "metadata": {},
   "source": [
    "The below code shows the sale price input data in a histogram. From the graph I can determine that the SalePrice data follows a log normal distribution.  I can also calculate the skew of the salePrice data and see there is ~1.178 skew."
   ]
  },
  {
   "cell_type": "code",
   "execution_count": 352,
   "metadata": {},
   "outputs": [
    {
     "data": {
      "text/plain": [
       "1.1783462304851948"
      ]
     },
     "execution_count": 352,
     "metadata": {},
     "output_type": "execute_result"
    }
   ],
   "source": [
    "salePrice.skew()"
   ]
  },
  {
   "cell_type": "code",
   "execution_count": 425,
   "metadata": {},
   "outputs": [
    {
     "data": {
      "image/png": "[encoded data removed]",
      "text/plain": [
       "<Figure size 432x288 with 1 Axes>"
      ]
     },
     "metadata": {
      "needs_background": "light"
     },
     "output_type": "display_data"
    }
   ],
   "source": [
    "plt.hist(salePrice)\n",
    "plt.title('Frequency distribution of sale prices')\n",
    "plt.xlabel('Sale Price')\n",
    "plt.ylabel('Count')\n",
    "# plt.savefig('saleprice.jpg', bbox_inches=\"tight\")"
   ]
  },
  {
   "cell_type": "markdown",
   "metadata": {},
   "source": [
    "If I want the SalePrice data to follow a normal distribution, I can calculate the log of the values.  Below shows what the sale price data looks like after calculating the log of each value.  I also calculate the skew which is approximately -.096 after calculating the log of each value in the sale price column."
   ]
  },
  {
   "cell_type": "code",
   "execution_count": 354,
   "metadata": {},
   "outputs": [
    {
     "data": {
      "text/plain": [
       "-0.09632240207755555"
      ]
     },
     "execution_count": 354,
     "metadata": {},
     "output_type": "execute_result"
    }
   ],
   "source": [
    "sp = np.log(salePrice)\n",
    "\n",
    "sp.skew()"
   ]
  },
  {
   "cell_type": "code",
   "execution_count": 355,
   "metadata": {},
   "outputs": [
    {
     "data": {
      "text/plain": [
       "(array([ 1.,  0.,  3.,  7., 21., 26., 18., 13.,  9.,  2.]),\n",
       " array([10.59663473, 10.8361466 , 11.07565847, 11.31517034, 11.55468221,\n",
       "        11.79419408, 12.03370595, 12.27321782, 12.51272969, 12.75224156,\n",
       "        12.99175343]),\n",
       " <BarContainer object of 10 artists>)"
      ]
     },
     "execution_count": 355,
     "metadata": {},
     "output_type": "execute_result"
    },
    {
     "data": {
      "image/png": "[encoded data removed]",
      "text/plain": [
       "<Figure size 432x288 with 1 Axes>"
      ]
     },
     "metadata": {
      "needs_background": "light"
     },
     "output_type": "display_data"
    }
   ],
   "source": [
    "plt.hist(sp)"
   ]
  },
  {
   "cell_type": "markdown",
   "metadata": {},
   "source": [
    "After looking at the data variables available.  My assumption was that the square footage of areas of the house would contain a postive correlation to the sale price of the house.  I also assumed that the overall quality and condition of the house would contain positive correlations.  Below contains plots that show the correlation of the following variables against the sale price data.  "
   ]
  },
  {
   "cell_type": "code",
   "execution_count": 356,
   "metadata": {},
   "outputs": [
    {
     "data": {
      "text/plain": [
       "[<matplotlib.lines.Line2D at 0x7fd020fec370>]"
      ]
     },
     "execution_count": 356,
     "metadata": {},
     "output_type": "execute_result"
    },
    {
     "data": {
      "image/png": "[encoded data removed]",
      "text/plain": [
       "<Figure size 432x288 with 1 Axes>"
      ]
     },
     "metadata": {
      "needs_background": "light"
     },
     "output_type": "display_data"
    }
   ],
   "source": [
    "# The overall quality of the house has a strong positive correlation with the sale price of the house\n",
    "x=data['OverallQual']\n",
    "y=salePrice\n",
    "plt.scatter(x, y)\n",
    "plt.title(\"Overall quality of the house to sale price correlation\")\n",
    "plt.xlabel(\"Overall Quality\")\n",
    "plt.ylabel(\"Sale Price\")\n",
    "a, b = np.polyfit(x, y, 1)\n",
    "plt.plot( x, a*x+b, color='orange')\n",
    "# plt.savefig(\"overallqual.jpg\", bbox_inches=\"tight\")\n"
   ]
  },
  {
   "cell_type": "code",
   "execution_count": 357,
   "metadata": {},
   "outputs": [
    {
     "data": {
      "text/plain": [
       "[<matplotlib.lines.Line2D at 0x7fd02111e790>]"
      ]
     },
     "execution_count": 357,
     "metadata": {},
     "output_type": "execute_result"
    },
    {
     "data": {
      "image/png": "[encoded data removed]",
      "text/plain": [
       "<Figure size 432x288 with 1 Axes>"
      ]
     },
     "metadata": {
      "needs_background": "light"
     },
     "output_type": "display_data"
    }
   ],
   "source": [
    "# I assumed that the overall condition of the house would have a strong positive correlation to the sale price, but the below graph does not show a strong correlation\n",
    "x=data['OverallCond']\n",
    "y=salePrice\n",
    "plt.scatter(x, y)\n",
    "a, b = np.polyfit(x, y, 1)\n",
    "plt.plot( x, a*x+b, color='orange')"
   ]
  },
  {
   "cell_type": "code",
   "execution_count": 358,
   "metadata": {},
   "outputs": [
    {
     "data": {
      "text/plain": [
       "[<matplotlib.lines.Line2D at 0x7fd0189a5610>]"
      ]
     },
     "execution_count": 358,
     "metadata": {},
     "output_type": "execute_result"
    },
    {
     "data": {
      "image/png": "[encoded data removed]",
      "text/plain": [
       "<Figure size 432x288 with 1 Axes>"
      ]
     },
     "metadata": {
      "needs_background": "light"
     },
     "output_type": "display_data"
    }
   ],
   "source": [
    "# The above ground living square footage has a positive correlation with the sale price\n",
    "x=data['GrLivArea']\n",
    "y=salePrice\n",
    "plt.scatter(x, y)\n",
    "plt.title(\"Above ground living area to sale price correlation\")\n",
    "plt.xlabel(\"Ground Living Area (square feet)\")\n",
    "plt.ylabel(\"Sale Price\")\n",
    "a, b = np.polyfit(x, y, 1)\n",
    "plt.plot( x, a*x+b, color='orange')\n",
    "# plt.savefig('grlivarea.jpg', bbox_inches=\"tight\")\n"
   ]
  },
  {
   "cell_type": "code",
   "execution_count": 359,
   "metadata": {},
   "outputs": [
    {
     "data": {
      "text/plain": [
       "[<matplotlib.lines.Line2D at 0x7fd0211f8fd0>]"
      ]
     },
     "execution_count": 359,
     "metadata": {},
     "output_type": "execute_result"
    },
    {
     "data": {
      "image/png": "[encoded data removed]",
      "text/plain": [
       "<Figure size 432x288 with 1 Axes>"
      ]
     },
     "metadata": {
      "needs_background": "light"
     },
     "output_type": "display_data"
    }
   ],
   "source": [
    "# The total basement square footage has a positive correlation to the sale price\n",
    "x=data['TotalBsmtSF']\n",
    "y=salePrice\n",
    "plt.scatter(x, y)\n",
    "a, b = np.polyfit(x, y, 1)\n",
    "plt.plot( x, a*x+b, color='orange')"
   ]
  },
  {
   "cell_type": "code",
   "execution_count": 360,
   "metadata": {},
   "outputs": [
    {
     "data": {
      "text/plain": [
       "[<matplotlib.lines.Line2D at 0x7fd018a2a160>]"
      ]
     },
     "execution_count": 360,
     "metadata": {},
     "output_type": "execute_result"
    },
    {
     "data": {
      "image/png": "[encoded data removed]",
      "text/plain": [
       "<Figure size 432x288 with 1 Axes>"
      ]
     },
     "metadata": {
      "needs_background": "light"
     },
     "output_type": "display_data"
    }
   ],
   "source": [
    "# I assumed that the Lot Size in square footage would contain a strong positive correlation to sale price. \n",
    "# It is hard to tell the correlation since there is an outlier in the graph\n",
    "x=data['LotArea']\n",
    "y=salePrice\n",
    "plt.scatter(x, y)\n",
    "a, b = np.polyfit(x, y, 1)\n",
    "plt.plot( x, a*x+b, color='orange')\n"
   ]
  },
  {
   "cell_type": "code",
   "execution_count": 361,
   "metadata": {},
   "outputs": [
    {
     "data": {
      "text/plain": [
       "[<matplotlib.lines.Line2D at 0x7fd018b6efd0>]"
      ]
     },
     "execution_count": 361,
     "metadata": {},
     "output_type": "execute_result"
    },
    {
     "data": {
      "image/png": "[encoded data removed]",
      "text/plain": [
       "<Figure size 432x288 with 1 Axes>"
      ]
     },
     "metadata": {
      "needs_background": "light"
     },
     "output_type": "display_data"
    }
   ],
   "source": [
    "# I removed the outlier to get a better look at the correlation of the lot area to the sale price.\n",
    "tmp = data.loc[data.LotArea < 20000]\n",
    "x=tmp['LotArea']\n",
    "y=tmp['SalePrice']\n",
    "plt.scatter(x, y)\n",
    "a, b = np.polyfit(x, y, 1)\n",
    "plt.plot( x, a*x+b, color='orange')\n"
   ]
  },
  {
   "cell_type": "code",
   "execution_count": 362,
   "metadata": {},
   "outputs": [
    {
     "data": {
      "text/plain": [
       "[<matplotlib.lines.Line2D at 0x7fd018afc3a0>]"
      ]
     },
     "execution_count": 362,
     "metadata": {},
     "output_type": "execute_result"
    },
    {
     "data": {
      "image/png": "[encoded data removed]",
      "text/plain": [
       "<Figure size 432x288 with 1 Axes>"
      ]
     },
     "metadata": {
      "needs_background": "light"
     },
     "output_type": "display_data"
    }
   ],
   "source": [
    "# The garage area square footage has a positive correlation with sale price\n",
    "x=data['GarageArea']\n",
    "y=salePrice\n",
    "plt.scatter(x, y)\n",
    "a, b = np.polyfit(x, y, 1)\n",
    "plt.plot( x, a*x+b, color='orange')\n"
   ]
  },
  {
   "cell_type": "code",
   "execution_count": 363,
   "metadata": {},
   "outputs": [
    {
     "data": {
      "text/plain": [
       "[<matplotlib.lines.Line2D at 0x7fd020f59f10>]"
      ]
     },
     "execution_count": 363,
     "metadata": {},
     "output_type": "execute_result"
    },
    {
     "data": {
      "image/png": "[encoded data removed]",
      "text/plain": [
       "<Figure size 432x288 with 1 Axes>"
      ]
     },
     "metadata": {
      "needs_background": "light"
     },
     "output_type": "display_data"
    }
   ],
   "source": [
    "# This refers to the correlation of the amount of cars that can fit in the gargage and it's correlation to the sale price\n",
    "x=data['GarageCars']\n",
    "y=salePrice\n",
    "plt.scatter(x, y)\n",
    "a, b = np.polyfit(x, y, 1)\n",
    "plt.plot( x, a*x+b, color='orange')"
   ]
  },
  {
   "cell_type": "markdown",
   "metadata": {},
   "source": [
    "Since linear regression won't be able to handle the categorical information, I will convert some of the categorical values into a numerical column by finding and replacing the label with a number. Then I will look at the correlation of these values to the sale price."
   ]
  },
  {
   "cell_type": "markdown",
   "metadata": {},
   "source": [
    "I want to explore the correlation of the exterior quality and condition of the house to the sale price. I also want to check the heating quality/condition and whether the house has central air conditioning or not.  The other variable I want to see if it has a correlation to sale price is the kitchen quality."
   ]
  },
  {
   "cell_type": "markdown",
   "metadata": {},
   "source": [
    "Since ExterQual, ExterCond, KitchenQual, HeatingQC all have a rating from excellent to poor, I decided to replace the rating with a 1 to 5 rating (1 being poor and 5 being excellent). The CentralAir column contains a Y or N which decides if there is air conditioning or not in the house.  I replaced the Y with a 1 and N with 0.  "
   ]
  },
  {
   "cell_type": "code",
   "execution_count": 364,
   "metadata": {},
   "outputs": [],
   "source": [
    "# Clean up columns to a numeric rating\n",
    "cleanup_cols = {'ExterQual': {'Ex':5, 'Gd':4, 'TA':3, 'Fa':2, 'Po':1},\n",
    "    'ExterCond': {'Ex':5, 'Gd':4, 'TA':3, 'Fa':2, 'Po':1},\n",
    "    'HeatingQC': {'Ex':5, 'Gd':4, 'TA':3, 'Fa':2, 'Po':1},\n",
    "    'CentralAir': {'N':0, 'Y':1},\n",
    "    'KitchenQual': {'Ex':5, 'Gd':4, 'TA':3, 'Fa':2, 'Po':1}}"
   ]
  },
  {
   "cell_type": "code",
   "execution_count": 365,
   "metadata": {},
   "outputs": [],
   "source": [
    "# Replaces the columns with the new values\n",
    "new_df = data.replace(cleanup_cols)"
   ]
  },
  {
   "cell_type": "code",
   "execution_count": 366,
   "metadata": {},
   "outputs": [
    {
     "data": {
      "text/html": [
       "<div>\n",
       "<style scoped>\n",
       "    .dataframe tbody tr th:only-of-type {\n",
       "        vertical-align: middle;\n",
       "    }\n",
       "\n",
       "    .dataframe tbody tr th {\n",
       "        vertical-align: top;\n",
       "    }\n",
       "\n",
       "    .dataframe thead th {\n",
       "        text-align: right;\n",
       "    }\n",
       "</style>\n",
       "<table border=\"1\" class=\"dataframe\">\n",
       "  <thead>\n",
       "    <tr style=\"text-align: right;\">\n",
       "      <th></th>\n",
       "      <th>SalePrice</th>\n",
       "    </tr>\n",
       "  </thead>\n",
       "  <tbody>\n",
       "    <tr>\n",
       "      <th>ExterQual</th>\n",
       "      <td>0.743234</td>\n",
       "    </tr>\n",
       "    <tr>\n",
       "      <th>ExterCond</th>\n",
       "      <td>0.029992</td>\n",
       "    </tr>\n",
       "    <tr>\n",
       "      <th>HeatingQC</th>\n",
       "      <td>0.537435</td>\n",
       "    </tr>\n",
       "    <tr>\n",
       "      <th>CentralAir</th>\n",
       "      <td>0.366800</td>\n",
       "    </tr>\n",
       "    <tr>\n",
       "      <th>KitchenQual</th>\n",
       "      <td>0.683071</td>\n",
       "    </tr>\n",
       "  </tbody>\n",
       "</table>\n",
       "</div>"
      ],
      "text/plain": [
       "             SalePrice\n",
       "ExterQual     0.743234\n",
       "ExterCond     0.029992\n",
       "HeatingQC     0.537435\n",
       "CentralAir    0.366800\n",
       "KitchenQual   0.683071"
      ]
     },
     "execution_count": 366,
     "metadata": {},
     "output_type": "execute_result"
    }
   ],
   "source": [
    "tmp_corr = new_df.corr()\n",
    "pd.DataFrame(tmp_corr['SalePrice'].loc[['ExterQual','ExterCond','HeatingQC','CentralAir','KitchenQual']])"
   ]
  },
  {
   "cell_type": "markdown",
   "metadata": {},
   "source": [
    "Based on the dataframe above, I learn that the exterior quality and kitchen quality has a strong positive correlation to sale price. "
   ]
  },
  {
   "cell_type": "code",
   "execution_count": 367,
   "metadata": {},
   "outputs": [
    {
     "data": {
      "text/plain": [
       "[<matplotlib.lines.Line2D at 0x7fd020e6a7f0>]"
      ]
     },
     "execution_count": 367,
     "metadata": {},
     "output_type": "execute_result"
    },
    {
     "data": {
      "image/png": "[encoded data removed]",
      "text/plain": [
       "<Figure size 432x288 with 1 Axes>"
      ]
     },
     "metadata": {
      "needs_background": "light"
     },
     "output_type": "display_data"
    }
   ],
   "source": [
    "# The scatter plot shows that the exterior quality has a positive correlation to the sale price\n",
    "x=new_df['ExterQual']\n",
    "y=new_df['SalePrice']\n",
    "plt.scatter(x, y)\n",
    "plt.title(\"Exterior quality to sale price correlation\")\n",
    "plt.xlabel(\"Exterior Quality\")\n",
    "plt.ylabel(\"Sale Price\")\n",
    "a, b = np.polyfit(x, y, 1)\n",
    "plt.plot( x, a*x+b, color='orange')\n",
    "# plt.savefig('exterqual.jpg', bbox_inches=\"tight\")"
   ]
  },
  {
   "cell_type": "code",
   "execution_count": 368,
   "metadata": {},
   "outputs": [
    {
     "data": {
      "text/plain": [
       "[<matplotlib.lines.Line2D at 0x7fd0518f45b0>]"
      ]
     },
     "execution_count": 368,
     "metadata": {},
     "output_type": "execute_result"
    },
    {
     "data": {
      "image/png": "[encoded data removed]",
      "text/plain": [
       "<Figure size 432x288 with 1 Axes>"
      ]
     },
     "metadata": {
      "needs_background": "light"
     },
     "output_type": "display_data"
    }
   ],
   "source": [
    "# The scatter plot shows the positive correlation of kitchen quality to the sale price\n",
    "x=new_df['KitchenQual']\n",
    "y=new_df['SalePrice']\n",
    "plt.scatter(x, y)\n",
    "a, b = np.polyfit(x, y, 1)\n",
    "plt.plot( x, a*x+b, color='orange')"
   ]
  },
  {
   "cell_type": "markdown",
   "metadata": {},
   "source": [
    "[Back to top](#Index)\n",
    "\n",
    "### 2.3 Data Preparation\n",
    "\n",
    "\n"
   ]
  },
  {
   "cell_type": "markdown",
   "metadata": {},
   "source": [
    "I first converted the categorical data I want to use in my model to a numeric value. Since there are missing values in the data, I replaced the null values with the average value in the column and afterwards dropped any null columns remaining. The following steps show in more detail what I did to clean the data."
   ]
  },
  {
   "cell_type": "markdown",
   "metadata": {},
   "source": [
    "1. Based on the data analysis that was done above, I decided to convert the following category based columns to numeric columns.  This will allow me to use these columns to create the linear regression model of sale prices. I changed the rating based system to a 5 star rating system of 5 being excellent and 1 being poor.  Then I replaced them in the dataset."
   ]
  },
  {
   "cell_type": "code",
   "execution_count": 369,
   "metadata": {},
   "outputs": [],
   "source": [
    "# Clean up columns to a numeric rating\n",
    "cleanup_cols = {'ExterQual': {'Ex':5, 'Gd':4, 'TA':3, 'Fa':2, 'Po':1},\n",
    "    'ExterCond': {'Ex':5, 'Gd':4, 'TA':3, 'Fa':2, 'Po':1},\n",
    "    'HeatingQC': {'Ex':5, 'Gd':4, 'TA':3, 'Fa':2, 'Po':1},\n",
    "    'CentralAir': {'N':0, 'Y':1},\n",
    "    'KitchenQual': {'Ex':5, 'Gd':4, 'TA':3, 'Fa':2, 'Po':1}}\n",
    "# Replaces the columns with the new values\n",
    "data = data.replace(cleanup_cols)"
   ]
  },
  {
   "cell_type": "markdown",
   "metadata": {},
   "source": [
    "2. All the columns that I will be using for creating a linear regression model are numeric columns; therefore, I filtered out all other data types from the source dataframe that are not numeric types.  The column count goes from 82 to 45."
   ]
  },
  {
   "cell_type": "code",
   "execution_count": 370,
   "metadata": {},
   "outputs": [
    {
     "data": {
      "text/plain": [
       "(100, 45)"
      ]
     },
     "execution_count": 370,
     "metadata": {},
     "output_type": "execute_result"
    }
   ],
   "source": [
    "# Select all the columns that are numeric\n",
    "numeric = data.select_dtypes(include=[np.number])\n",
    "\n",
    "numeric.shape"
   ]
  },
  {
   "cell_type": "markdown",
   "metadata": {},
   "source": [
    "3. After filtering out the columns wanted, I checked the null values in each column remaining. The column PoolQC contains 100 null values out of the 100 rows, the column LotFrontage contains 14 null values out of the 100 rows, and the GarageYrBlt column contains 6 nulls out of the 100 rows."
   ]
  },
  {
   "cell_type": "code",
   "execution_count": 371,
   "metadata": {},
   "outputs": [
    {
     "data": {
      "text/html": [
       "<div>\n",
       "<style scoped>\n",
       "    .dataframe tbody tr th:only-of-type {\n",
       "        vertical-align: middle;\n",
       "    }\n",
       "\n",
       "    .dataframe tbody tr th {\n",
       "        vertical-align: top;\n",
       "    }\n",
       "\n",
       "    .dataframe thead th {\n",
       "        text-align: right;\n",
       "    }\n",
       "</style>\n",
       "<table border=\"1\" class=\"dataframe\">\n",
       "  <thead>\n",
       "    <tr style=\"text-align: right;\">\n",
       "      <th></th>\n",
       "      <th>0</th>\n",
       "    </tr>\n",
       "  </thead>\n",
       "  <tbody>\n",
       "    <tr>\n",
       "      <th>PoolQC</th>\n",
       "      <td>100</td>\n",
       "    </tr>\n",
       "    <tr>\n",
       "      <th>LotFrontage</th>\n",
       "      <td>14</td>\n",
       "    </tr>\n",
       "    <tr>\n",
       "      <th>GarageYrBlt</th>\n",
       "      <td>6</td>\n",
       "    </tr>\n",
       "    <tr>\n",
       "      <th>Unnamed: 0</th>\n",
       "      <td>0</td>\n",
       "    </tr>\n",
       "    <tr>\n",
       "      <th>GarageArea</th>\n",
       "      <td>0</td>\n",
       "    </tr>\n",
       "    <tr>\n",
       "      <th>HalfBath</th>\n",
       "      <td>0</td>\n",
       "    </tr>\n",
       "    <tr>\n",
       "      <th>BedroomAbvGr</th>\n",
       "      <td>0</td>\n",
       "    </tr>\n",
       "    <tr>\n",
       "      <th>KitchenAbvGr</th>\n",
       "      <td>0</td>\n",
       "    </tr>\n",
       "    <tr>\n",
       "      <th>KitchenQual</th>\n",
       "      <td>0</td>\n",
       "    </tr>\n",
       "    <tr>\n",
       "      <th>TotRmsAbvGrd</th>\n",
       "      <td>0</td>\n",
       "    </tr>\n",
       "    <tr>\n",
       "      <th>Fireplaces</th>\n",
       "      <td>0</td>\n",
       "    </tr>\n",
       "    <tr>\n",
       "      <th>GarageCars</th>\n",
       "      <td>0</td>\n",
       "    </tr>\n",
       "    <tr>\n",
       "      <th>OpenPorchSF</th>\n",
       "      <td>0</td>\n",
       "    </tr>\n",
       "    <tr>\n",
       "      <th>WoodDeckSF</th>\n",
       "      <td>0</td>\n",
       "    </tr>\n",
       "    <tr>\n",
       "      <th>BsmtHalfBath</th>\n",
       "      <td>0</td>\n",
       "    </tr>\n",
       "    <tr>\n",
       "      <th>EnclosedPorch</th>\n",
       "      <td>0</td>\n",
       "    </tr>\n",
       "    <tr>\n",
       "      <th>3SsnPorch</th>\n",
       "      <td>0</td>\n",
       "    </tr>\n",
       "    <tr>\n",
       "      <th>ScreenPorch</th>\n",
       "      <td>0</td>\n",
       "    </tr>\n",
       "    <tr>\n",
       "      <th>PoolArea</th>\n",
       "      <td>0</td>\n",
       "    </tr>\n",
       "    <tr>\n",
       "      <th>MiscVal</th>\n",
       "      <td>0</td>\n",
       "    </tr>\n",
       "    <tr>\n",
       "      <th>MoSold</th>\n",
       "      <td>0</td>\n",
       "    </tr>\n",
       "    <tr>\n",
       "      <th>YrSold</th>\n",
       "      <td>0</td>\n",
       "    </tr>\n",
       "    <tr>\n",
       "      <th>FullBath</th>\n",
       "      <td>0</td>\n",
       "    </tr>\n",
       "    <tr>\n",
       "      <th>BsmtFullBath</th>\n",
       "      <td>0</td>\n",
       "    </tr>\n",
       "    <tr>\n",
       "      <th>Id</th>\n",
       "      <td>0</td>\n",
       "    </tr>\n",
       "    <tr>\n",
       "      <th>ExterCond</th>\n",
       "      <td>0</td>\n",
       "    </tr>\n",
       "    <tr>\n",
       "      <th>MSSubClass</th>\n",
       "      <td>0</td>\n",
       "    </tr>\n",
       "    <tr>\n",
       "      <th>LotArea</th>\n",
       "      <td>0</td>\n",
       "    </tr>\n",
       "    <tr>\n",
       "      <th>OverallQual</th>\n",
       "      <td>0</td>\n",
       "    </tr>\n",
       "    <tr>\n",
       "      <th>OverallCond</th>\n",
       "      <td>0</td>\n",
       "    </tr>\n",
       "    <tr>\n",
       "      <th>YearBuilt</th>\n",
       "      <td>0</td>\n",
       "    </tr>\n",
       "    <tr>\n",
       "      <th>YearRemodAdd</th>\n",
       "      <td>0</td>\n",
       "    </tr>\n",
       "    <tr>\n",
       "      <th>MasVnrArea</th>\n",
       "      <td>0</td>\n",
       "    </tr>\n",
       "    <tr>\n",
       "      <th>ExterQual</th>\n",
       "      <td>0</td>\n",
       "    </tr>\n",
       "    <tr>\n",
       "      <th>BsmtFinSF1</th>\n",
       "      <td>0</td>\n",
       "    </tr>\n",
       "    <tr>\n",
       "      <th>GrLivArea</th>\n",
       "      <td>0</td>\n",
       "    </tr>\n",
       "    <tr>\n",
       "      <th>BsmtFinSF2</th>\n",
       "      <td>0</td>\n",
       "    </tr>\n",
       "    <tr>\n",
       "      <th>BsmtUnfSF</th>\n",
       "      <td>0</td>\n",
       "    </tr>\n",
       "    <tr>\n",
       "      <th>TotalBsmtSF</th>\n",
       "      <td>0</td>\n",
       "    </tr>\n",
       "    <tr>\n",
       "      <th>HeatingQC</th>\n",
       "      <td>0</td>\n",
       "    </tr>\n",
       "    <tr>\n",
       "      <th>CentralAir</th>\n",
       "      <td>0</td>\n",
       "    </tr>\n",
       "    <tr>\n",
       "      <th>1stFlrSF</th>\n",
       "      <td>0</td>\n",
       "    </tr>\n",
       "    <tr>\n",
       "      <th>2ndFlrSF</th>\n",
       "      <td>0</td>\n",
       "    </tr>\n",
       "    <tr>\n",
       "      <th>LowQualFinSF</th>\n",
       "      <td>0</td>\n",
       "    </tr>\n",
       "    <tr>\n",
       "      <th>SalePrice</th>\n",
       "      <td>0</td>\n",
       "    </tr>\n",
       "  </tbody>\n",
       "</table>\n",
       "</div>"
      ],
      "text/plain": [
       "                 0\n",
       "PoolQC         100\n",
       "LotFrontage     14\n",
       "GarageYrBlt      6\n",
       "Unnamed: 0       0\n",
       "GarageArea       0\n",
       "HalfBath         0\n",
       "BedroomAbvGr     0\n",
       "KitchenAbvGr     0\n",
       "KitchenQual      0\n",
       "TotRmsAbvGrd     0\n",
       "Fireplaces       0\n",
       "GarageCars       0\n",
       "OpenPorchSF      0\n",
       "WoodDeckSF       0\n",
       "BsmtHalfBath     0\n",
       "EnclosedPorch    0\n",
       "3SsnPorch        0\n",
       "ScreenPorch      0\n",
       "PoolArea         0\n",
       "MiscVal          0\n",
       "MoSold           0\n",
       "YrSold           0\n",
       "FullBath         0\n",
       "BsmtFullBath     0\n",
       "Id               0\n",
       "ExterCond        0\n",
       "MSSubClass       0\n",
       "LotArea          0\n",
       "OverallQual      0\n",
       "OverallCond      0\n",
       "YearBuilt        0\n",
       "YearRemodAdd     0\n",
       "MasVnrArea       0\n",
       "ExterQual        0\n",
       "BsmtFinSF1       0\n",
       "GrLivArea        0\n",
       "BsmtFinSF2       0\n",
       "BsmtUnfSF        0\n",
       "TotalBsmtSF      0\n",
       "HeatingQC        0\n",
       "CentralAir       0\n",
       "1stFlrSF         0\n",
       "2ndFlrSF         0\n",
       "LowQualFinSF     0\n",
       "SalePrice        0"
      ]
     },
     "execution_count": 371,
     "metadata": {},
     "output_type": "execute_result"
    }
   ],
   "source": [
    "pd.DataFrame(numeric.isnull().sum().sort_values(ascending=False))"
   ]
  },
  {
   "cell_type": "markdown",
   "metadata": {},
   "source": [
    "4. I don't want to drop the rows that contain nulls in the columns LotFrontage and GarageYrBlt, and I also don't want to drop the columns since they can be useful for determining the linear regression model.  I decide to interpolate the null data in those columns to be replaced with the mean.  Then I verify if there are any remaining null values in the dataframe, which the PoolQC column contains only null values."
   ]
  },
  {
   "cell_type": "code",
   "execution_count": 372,
   "metadata": {},
   "outputs": [],
   "source": [
    "# Cleans up the data by replacing the null values with the mean\n",
    "cleaned = numeric.interpolate()\n"
   ]
  },
  {
   "cell_type": "code",
   "execution_count": 373,
   "metadata": {},
   "outputs": [
    {
     "data": {
      "text/html": [
       "<div>\n",
       "<style scoped>\n",
       "    .dataframe tbody tr th:only-of-type {\n",
       "        vertical-align: middle;\n",
       "    }\n",
       "\n",
       "    .dataframe tbody tr th {\n",
       "        vertical-align: top;\n",
       "    }\n",
       "\n",
       "    .dataframe thead th {\n",
       "        text-align: right;\n",
       "    }\n",
       "</style>\n",
       "<table border=\"1\" class=\"dataframe\">\n",
       "  <thead>\n",
       "    <tr style=\"text-align: right;\">\n",
       "      <th></th>\n",
       "      <th>0</th>\n",
       "    </tr>\n",
       "  </thead>\n",
       "  <tbody>\n",
       "    <tr>\n",
       "      <th>PoolQC</th>\n",
       "      <td>100</td>\n",
       "    </tr>\n",
       "    <tr>\n",
       "      <th>Unnamed: 0</th>\n",
       "      <td>0</td>\n",
       "    </tr>\n",
       "    <tr>\n",
       "      <th>GarageArea</th>\n",
       "      <td>0</td>\n",
       "    </tr>\n",
       "    <tr>\n",
       "      <th>HalfBath</th>\n",
       "      <td>0</td>\n",
       "    </tr>\n",
       "    <tr>\n",
       "      <th>BedroomAbvGr</th>\n",
       "      <td>0</td>\n",
       "    </tr>\n",
       "    <tr>\n",
       "      <th>KitchenAbvGr</th>\n",
       "      <td>0</td>\n",
       "    </tr>\n",
       "    <tr>\n",
       "      <th>KitchenQual</th>\n",
       "      <td>0</td>\n",
       "    </tr>\n",
       "    <tr>\n",
       "      <th>TotRmsAbvGrd</th>\n",
       "      <td>0</td>\n",
       "    </tr>\n",
       "    <tr>\n",
       "      <th>Fireplaces</th>\n",
       "      <td>0</td>\n",
       "    </tr>\n",
       "    <tr>\n",
       "      <th>GarageYrBlt</th>\n",
       "      <td>0</td>\n",
       "    </tr>\n",
       "    <tr>\n",
       "      <th>GarageCars</th>\n",
       "      <td>0</td>\n",
       "    </tr>\n",
       "    <tr>\n",
       "      <th>WoodDeckSF</th>\n",
       "      <td>0</td>\n",
       "    </tr>\n",
       "    <tr>\n",
       "      <th>BsmtHalfBath</th>\n",
       "      <td>0</td>\n",
       "    </tr>\n",
       "    <tr>\n",
       "      <th>OpenPorchSF</th>\n",
       "      <td>0</td>\n",
       "    </tr>\n",
       "    <tr>\n",
       "      <th>EnclosedPorch</th>\n",
       "      <td>0</td>\n",
       "    </tr>\n",
       "    <tr>\n",
       "      <th>3SsnPorch</th>\n",
       "      <td>0</td>\n",
       "    </tr>\n",
       "    <tr>\n",
       "      <th>ScreenPorch</th>\n",
       "      <td>0</td>\n",
       "    </tr>\n",
       "    <tr>\n",
       "      <th>PoolArea</th>\n",
       "      <td>0</td>\n",
       "    </tr>\n",
       "    <tr>\n",
       "      <th>MiscVal</th>\n",
       "      <td>0</td>\n",
       "    </tr>\n",
       "    <tr>\n",
       "      <th>MoSold</th>\n",
       "      <td>0</td>\n",
       "    </tr>\n",
       "    <tr>\n",
       "      <th>YrSold</th>\n",
       "      <td>0</td>\n",
       "    </tr>\n",
       "    <tr>\n",
       "      <th>FullBath</th>\n",
       "      <td>0</td>\n",
       "    </tr>\n",
       "    <tr>\n",
       "      <th>BsmtFullBath</th>\n",
       "      <td>0</td>\n",
       "    </tr>\n",
       "    <tr>\n",
       "      <th>Id</th>\n",
       "      <td>0</td>\n",
       "    </tr>\n",
       "    <tr>\n",
       "      <th>GrLivArea</th>\n",
       "      <td>0</td>\n",
       "    </tr>\n",
       "    <tr>\n",
       "      <th>MSSubClass</th>\n",
       "      <td>0</td>\n",
       "    </tr>\n",
       "    <tr>\n",
       "      <th>LotFrontage</th>\n",
       "      <td>0</td>\n",
       "    </tr>\n",
       "    <tr>\n",
       "      <th>LotArea</th>\n",
       "      <td>0</td>\n",
       "    </tr>\n",
       "    <tr>\n",
       "      <th>OverallQual</th>\n",
       "      <td>0</td>\n",
       "    </tr>\n",
       "    <tr>\n",
       "      <th>OverallCond</th>\n",
       "      <td>0</td>\n",
       "    </tr>\n",
       "    <tr>\n",
       "      <th>YearBuilt</th>\n",
       "      <td>0</td>\n",
       "    </tr>\n",
       "    <tr>\n",
       "      <th>YearRemodAdd</th>\n",
       "      <td>0</td>\n",
       "    </tr>\n",
       "    <tr>\n",
       "      <th>MasVnrArea</th>\n",
       "      <td>0</td>\n",
       "    </tr>\n",
       "    <tr>\n",
       "      <th>ExterQual</th>\n",
       "      <td>0</td>\n",
       "    </tr>\n",
       "    <tr>\n",
       "      <th>ExterCond</th>\n",
       "      <td>0</td>\n",
       "    </tr>\n",
       "    <tr>\n",
       "      <th>BsmtFinSF1</th>\n",
       "      <td>0</td>\n",
       "    </tr>\n",
       "    <tr>\n",
       "      <th>BsmtFinSF2</th>\n",
       "      <td>0</td>\n",
       "    </tr>\n",
       "    <tr>\n",
       "      <th>BsmtUnfSF</th>\n",
       "      <td>0</td>\n",
       "    </tr>\n",
       "    <tr>\n",
       "      <th>TotalBsmtSF</th>\n",
       "      <td>0</td>\n",
       "    </tr>\n",
       "    <tr>\n",
       "      <th>HeatingQC</th>\n",
       "      <td>0</td>\n",
       "    </tr>\n",
       "    <tr>\n",
       "      <th>CentralAir</th>\n",
       "      <td>0</td>\n",
       "    </tr>\n",
       "    <tr>\n",
       "      <th>1stFlrSF</th>\n",
       "      <td>0</td>\n",
       "    </tr>\n",
       "    <tr>\n",
       "      <th>2ndFlrSF</th>\n",
       "      <td>0</td>\n",
       "    </tr>\n",
       "    <tr>\n",
       "      <th>LowQualFinSF</th>\n",
       "      <td>0</td>\n",
       "    </tr>\n",
       "    <tr>\n",
       "      <th>SalePrice</th>\n",
       "      <td>0</td>\n",
       "    </tr>\n",
       "  </tbody>\n",
       "</table>\n",
       "</div>"
      ],
      "text/plain": [
       "                 0\n",
       "PoolQC         100\n",
       "Unnamed: 0       0\n",
       "GarageArea       0\n",
       "HalfBath         0\n",
       "BedroomAbvGr     0\n",
       "KitchenAbvGr     0\n",
       "KitchenQual      0\n",
       "TotRmsAbvGrd     0\n",
       "Fireplaces       0\n",
       "GarageYrBlt      0\n",
       "GarageCars       0\n",
       "WoodDeckSF       0\n",
       "BsmtHalfBath     0\n",
       "OpenPorchSF      0\n",
       "EnclosedPorch    0\n",
       "3SsnPorch        0\n",
       "ScreenPorch      0\n",
       "PoolArea         0\n",
       "MiscVal          0\n",
       "MoSold           0\n",
       "YrSold           0\n",
       "FullBath         0\n",
       "BsmtFullBath     0\n",
       "Id               0\n",
       "GrLivArea        0\n",
       "MSSubClass       0\n",
       "LotFrontage      0\n",
       "LotArea          0\n",
       "OverallQual      0\n",
       "OverallCond      0\n",
       "YearBuilt        0\n",
       "YearRemodAdd     0\n",
       "MasVnrArea       0\n",
       "ExterQual        0\n",
       "ExterCond        0\n",
       "BsmtFinSF1       0\n",
       "BsmtFinSF2       0\n",
       "BsmtUnfSF        0\n",
       "TotalBsmtSF      0\n",
       "HeatingQC        0\n",
       "CentralAir       0\n",
       "1stFlrSF         0\n",
       "2ndFlrSF         0\n",
       "LowQualFinSF     0\n",
       "SalePrice        0"
      ]
     },
     "execution_count": 373,
     "metadata": {},
     "output_type": "execute_result"
    }
   ],
   "source": [
    "pd.DataFrame(cleaned.isnull().sum().sort_values(ascending=False))"
   ]
  },
  {
   "cell_type": "markdown",
   "metadata": {},
   "source": [
    "5. Since the PoolQC column does not contain any data except null values, I decide to drop the column.  Then I verify if there are any null values remaining, and learn there are no longer null values in the dataframe."
   ]
  },
  {
   "cell_type": "code",
   "execution_count": 374,
   "metadata": {},
   "outputs": [],
   "source": [
    "clean_data = cleaned.dropna(axis=1)"
   ]
  },
  {
   "cell_type": "code",
   "execution_count": 375,
   "metadata": {},
   "outputs": [
    {
     "data": {
      "text/html": [
       "<div>\n",
       "<style scoped>\n",
       "    .dataframe tbody tr th:only-of-type {\n",
       "        vertical-align: middle;\n",
       "    }\n",
       "\n",
       "    .dataframe tbody tr th {\n",
       "        vertical-align: top;\n",
       "    }\n",
       "\n",
       "    .dataframe thead th {\n",
       "        text-align: right;\n",
       "    }\n",
       "</style>\n",
       "<table border=\"1\" class=\"dataframe\">\n",
       "  <thead>\n",
       "    <tr style=\"text-align: right;\">\n",
       "      <th></th>\n",
       "      <th>0</th>\n",
       "    </tr>\n",
       "  </thead>\n",
       "  <tbody>\n",
       "    <tr>\n",
       "      <th>Unnamed: 0</th>\n",
       "      <td>0</td>\n",
       "    </tr>\n",
       "    <tr>\n",
       "      <th>Id</th>\n",
       "      <td>0</td>\n",
       "    </tr>\n",
       "    <tr>\n",
       "      <th>FullBath</th>\n",
       "      <td>0</td>\n",
       "    </tr>\n",
       "    <tr>\n",
       "      <th>HalfBath</th>\n",
       "      <td>0</td>\n",
       "    </tr>\n",
       "    <tr>\n",
       "      <th>BedroomAbvGr</th>\n",
       "      <td>0</td>\n",
       "    </tr>\n",
       "    <tr>\n",
       "      <th>KitchenAbvGr</th>\n",
       "      <td>0</td>\n",
       "    </tr>\n",
       "    <tr>\n",
       "      <th>KitchenQual</th>\n",
       "      <td>0</td>\n",
       "    </tr>\n",
       "    <tr>\n",
       "      <th>TotRmsAbvGrd</th>\n",
       "      <td>0</td>\n",
       "    </tr>\n",
       "    <tr>\n",
       "      <th>Fireplaces</th>\n",
       "      <td>0</td>\n",
       "    </tr>\n",
       "    <tr>\n",
       "      <th>GarageYrBlt</th>\n",
       "      <td>0</td>\n",
       "    </tr>\n",
       "    <tr>\n",
       "      <th>GarageCars</th>\n",
       "      <td>0</td>\n",
       "    </tr>\n",
       "    <tr>\n",
       "      <th>GarageArea</th>\n",
       "      <td>0</td>\n",
       "    </tr>\n",
       "    <tr>\n",
       "      <th>WoodDeckSF</th>\n",
       "      <td>0</td>\n",
       "    </tr>\n",
       "    <tr>\n",
       "      <th>OpenPorchSF</th>\n",
       "      <td>0</td>\n",
       "    </tr>\n",
       "    <tr>\n",
       "      <th>EnclosedPorch</th>\n",
       "      <td>0</td>\n",
       "    </tr>\n",
       "    <tr>\n",
       "      <th>3SsnPorch</th>\n",
       "      <td>0</td>\n",
       "    </tr>\n",
       "    <tr>\n",
       "      <th>ScreenPorch</th>\n",
       "      <td>0</td>\n",
       "    </tr>\n",
       "    <tr>\n",
       "      <th>PoolArea</th>\n",
       "      <td>0</td>\n",
       "    </tr>\n",
       "    <tr>\n",
       "      <th>MiscVal</th>\n",
       "      <td>0</td>\n",
       "    </tr>\n",
       "    <tr>\n",
       "      <th>MoSold</th>\n",
       "      <td>0</td>\n",
       "    </tr>\n",
       "    <tr>\n",
       "      <th>YrSold</th>\n",
       "      <td>0</td>\n",
       "    </tr>\n",
       "    <tr>\n",
       "      <th>BsmtHalfBath</th>\n",
       "      <td>0</td>\n",
       "    </tr>\n",
       "    <tr>\n",
       "      <th>BsmtFullBath</th>\n",
       "      <td>0</td>\n",
       "    </tr>\n",
       "    <tr>\n",
       "      <th>GrLivArea</th>\n",
       "      <td>0</td>\n",
       "    </tr>\n",
       "    <tr>\n",
       "      <th>ExterQual</th>\n",
       "      <td>0</td>\n",
       "    </tr>\n",
       "    <tr>\n",
       "      <th>MSSubClass</th>\n",
       "      <td>0</td>\n",
       "    </tr>\n",
       "    <tr>\n",
       "      <th>LotFrontage</th>\n",
       "      <td>0</td>\n",
       "    </tr>\n",
       "    <tr>\n",
       "      <th>LotArea</th>\n",
       "      <td>0</td>\n",
       "    </tr>\n",
       "    <tr>\n",
       "      <th>OverallQual</th>\n",
       "      <td>0</td>\n",
       "    </tr>\n",
       "    <tr>\n",
       "      <th>OverallCond</th>\n",
       "      <td>0</td>\n",
       "    </tr>\n",
       "    <tr>\n",
       "      <th>YearBuilt</th>\n",
       "      <td>0</td>\n",
       "    </tr>\n",
       "    <tr>\n",
       "      <th>YearRemodAdd</th>\n",
       "      <td>0</td>\n",
       "    </tr>\n",
       "    <tr>\n",
       "      <th>MasVnrArea</th>\n",
       "      <td>0</td>\n",
       "    </tr>\n",
       "    <tr>\n",
       "      <th>ExterCond</th>\n",
       "      <td>0</td>\n",
       "    </tr>\n",
       "    <tr>\n",
       "      <th>LowQualFinSF</th>\n",
       "      <td>0</td>\n",
       "    </tr>\n",
       "    <tr>\n",
       "      <th>BsmtFinSF1</th>\n",
       "      <td>0</td>\n",
       "    </tr>\n",
       "    <tr>\n",
       "      <th>BsmtFinSF2</th>\n",
       "      <td>0</td>\n",
       "    </tr>\n",
       "    <tr>\n",
       "      <th>BsmtUnfSF</th>\n",
       "      <td>0</td>\n",
       "    </tr>\n",
       "    <tr>\n",
       "      <th>TotalBsmtSF</th>\n",
       "      <td>0</td>\n",
       "    </tr>\n",
       "    <tr>\n",
       "      <th>HeatingQC</th>\n",
       "      <td>0</td>\n",
       "    </tr>\n",
       "    <tr>\n",
       "      <th>CentralAir</th>\n",
       "      <td>0</td>\n",
       "    </tr>\n",
       "    <tr>\n",
       "      <th>1stFlrSF</th>\n",
       "      <td>0</td>\n",
       "    </tr>\n",
       "    <tr>\n",
       "      <th>2ndFlrSF</th>\n",
       "      <td>0</td>\n",
       "    </tr>\n",
       "    <tr>\n",
       "      <th>SalePrice</th>\n",
       "      <td>0</td>\n",
       "    </tr>\n",
       "  </tbody>\n",
       "</table>\n",
       "</div>"
      ],
      "text/plain": [
       "               0\n",
       "Unnamed: 0     0\n",
       "Id             0\n",
       "FullBath       0\n",
       "HalfBath       0\n",
       "BedroomAbvGr   0\n",
       "KitchenAbvGr   0\n",
       "KitchenQual    0\n",
       "TotRmsAbvGrd   0\n",
       "Fireplaces     0\n",
       "GarageYrBlt    0\n",
       "GarageCars     0\n",
       "GarageArea     0\n",
       "WoodDeckSF     0\n",
       "OpenPorchSF    0\n",
       "EnclosedPorch  0\n",
       "3SsnPorch      0\n",
       "ScreenPorch    0\n",
       "PoolArea       0\n",
       "MiscVal        0\n",
       "MoSold         0\n",
       "YrSold         0\n",
       "BsmtHalfBath   0\n",
       "BsmtFullBath   0\n",
       "GrLivArea      0\n",
       "ExterQual      0\n",
       "MSSubClass     0\n",
       "LotFrontage    0\n",
       "LotArea        0\n",
       "OverallQual    0\n",
       "OverallCond    0\n",
       "YearBuilt      0\n",
       "YearRemodAdd   0\n",
       "MasVnrArea     0\n",
       "ExterCond      0\n",
       "LowQualFinSF   0\n",
       "BsmtFinSF1     0\n",
       "BsmtFinSF2     0\n",
       "BsmtUnfSF      0\n",
       "TotalBsmtSF    0\n",
       "HeatingQC      0\n",
       "CentralAir     0\n",
       "1stFlrSF       0\n",
       "2ndFlrSF       0\n",
       "SalePrice      0"
      ]
     },
     "execution_count": 375,
     "metadata": {},
     "output_type": "execute_result"
    }
   ],
   "source": [
    "pd.DataFrame(clean_data.isnull().sum().sort_values(ascending=False))"
   ]
  },
  {
   "cell_type": "markdown",
   "metadata": {},
   "source": [
    "[Back to top](#Index)\n",
    "\n",
    "### 2.4 Correlation\n"
   ]
  },
  {
   "cell_type": "markdown",
   "metadata": {},
   "source": [
    "I used the cleaned data to perform the correlation. "
   ]
  },
  {
   "cell_type": "code",
   "execution_count": 376,
   "metadata": {},
   "outputs": [],
   "source": [
    "corr = clean_data.corr()"
   ]
  },
  {
   "cell_type": "markdown",
   "metadata": {},
   "source": [
    "Since I just want to know how the other columns are correlated to the sale price column, I select the sale price column and sort in descending order.  I then select the top 8 rows to see the correlation to sale price."
   ]
  },
  {
   "cell_type": "code",
   "execution_count": 377,
   "metadata": {},
   "outputs": [
    {
     "data": {
      "text/html": [
       "<div>\n",
       "<style scoped>\n",
       "    .dataframe tbody tr th:only-of-type {\n",
       "        vertical-align: middle;\n",
       "    }\n",
       "\n",
       "    .dataframe tbody tr th {\n",
       "        vertical-align: top;\n",
       "    }\n",
       "\n",
       "    .dataframe thead th {\n",
       "        text-align: right;\n",
       "    }\n",
       "</style>\n",
       "<table border=\"1\" class=\"dataframe\">\n",
       "  <thead>\n",
       "    <tr style=\"text-align: right;\">\n",
       "      <th></th>\n",
       "      <th>SalePrice</th>\n",
       "    </tr>\n",
       "  </thead>\n",
       "  <tbody>\n",
       "    <tr>\n",
       "      <th>SalePrice</th>\n",
       "      <td>1.000000</td>\n",
       "    </tr>\n",
       "    <tr>\n",
       "      <th>OverallQual</th>\n",
       "      <td>0.855061</td>\n",
       "    </tr>\n",
       "    <tr>\n",
       "      <th>ExterQual</th>\n",
       "      <td>0.743234</td>\n",
       "    </tr>\n",
       "    <tr>\n",
       "      <th>GrLivArea</th>\n",
       "      <td>0.735129</td>\n",
       "    </tr>\n",
       "    <tr>\n",
       "      <th>GarageArea</th>\n",
       "      <td>0.688249</td>\n",
       "    </tr>\n",
       "    <tr>\n",
       "      <th>KitchenQual</th>\n",
       "      <td>0.683071</td>\n",
       "    </tr>\n",
       "    <tr>\n",
       "      <th>GarageCars</th>\n",
       "      <td>0.663441</td>\n",
       "    </tr>\n",
       "    <tr>\n",
       "      <th>YearBuilt</th>\n",
       "      <td>0.658636</td>\n",
       "    </tr>\n",
       "  </tbody>\n",
       "</table>\n",
       "</div>"
      ],
      "text/plain": [
       "             SalePrice\n",
       "SalePrice     1.000000\n",
       "OverallQual   0.855061\n",
       "ExterQual     0.743234\n",
       "GrLivArea     0.735129\n",
       "GarageArea    0.688249\n",
       "KitchenQual   0.683071\n",
       "GarageCars    0.663441\n",
       "YearBuilt     0.658636"
      ]
     },
     "execution_count": 377,
     "metadata": {},
     "output_type": "execute_result"
    }
   ],
   "source": [
    "sale_price_corr = pd.DataFrame(corr['SalePrice'].sort_values(ascending=False))[0:8]\n",
    "cols = sale_price_corr.index\n",
    "sale_price_corr"
   ]
  },
  {
   "cell_type": "markdown",
   "metadata": {},
   "source": [
    "Using the columns with the highest correlation to sales price, I then select those columns from the cleaned data and do a correlation mapping on those columns and display them in the heap map below.  The top most row in the heatmap shows the correlation values for the SalePrice column against the other columns selected. "
   ]
  },
  {
   "cell_type": "code",
   "execution_count": 378,
   "metadata": {},
   "outputs": [
    {
     "data": {
      "image/png": "[encoded data removed]",
      "text/plain": [
       "<Figure size 432x288 with 2 Axes>"
      ]
     },
     "metadata": {
      "needs_background": "light"
     },
     "output_type": "display_data"
    }
   ],
   "source": [
    "sns.heatmap(clean_data[cols].corr(), annot = True)\n",
    "plt.savefig('heatmap.jpg',  bbox_inches=\"tight\")"
   ]
  },
  {
   "cell_type": "markdown",
   "metadata": {},
   "source": [
    "By looking at the correlation values to SalePrice, I learned that the OverallQual column contains the highest correlation to SalePrice.  The other columns that contain a high correlation to SalePrice are ExterQual, GrLivArea, GarageArea, KitchenQual, GarageCars, and YearBuilt, which all contain a correlation above 0.65.  Based on these correlations, I will use a combination of these columns to train my linear regression model."
   ]
  },
  {
   "cell_type": "markdown",
   "metadata": {},
   "source": [
    "\n",
    "[Back to top](#Index)\n",
    "\n",
    "## 3. Project Description\n",
    "\n",
    "Before analyzing the dataset, I made sure to clean the dataset by interpolating the columns that contained null values and replacing them with the mean.  I also converted a few columns that are category based to numeric columns.  This makes sure that my analysis is not limited to just numeric columns, and also doesn’t show an inaccurate representation of the data if it is missing fields.  I analyzed the following variables against the SalePrice column, OverallQual, ExterQual, GrLivArea, GarageArea, KitchenQual, GarageCars, YearBuilt, and HeatingQC.  I selected these columns because they contained a strong positive correlation to the SalePrice column.  My analysis showed that OverallQual, ExterQual, GrLivArea, GarageArea, KitchenQual, and GarageCars had a correlation over 0.65 to SalePrice and resulted in the highest score in the linear regression model.  \n"
   ]
  },
  {
   "cell_type": "markdown",
   "metadata": {},
   "source": [
    "[Back to top](#Index)\n",
    "\n",
    "### 3.1 Linear Regression\n",
    "\n",
    "The machine learning algorithm that I use in this project is linear regression.  The specific type of linear regression algorithm used is the multiple linear regression algorithm. This entails that there are multiple independent variables used to create a model to predict one dependent variable.  This algorithm will try to predict the values in a continuous range.  It aims to assign the line of best fit, to assign the coefficients of the independent variables, and get the bias to have a small error.  The error is determined by the actual value minus the predicted value.  \n",
    "\n",
    "The formula is y = m1x1 + m2x2 + m3x3 + … + mnxn + b where x1, x2, x3, … xn  represents the independent variables used to make the prediction of the dependent variable y.  The coefficients of the independent variables are m1, m2, m3, … mn, which represents the slopes of the x values.  The bias is represented by b in the formula, which could also be described as the intercept.  \n",
    "\n",
    "One of the metrics calculated to determine how good the model is R squared, the score of the model, which lies between 0 to 1.  The closer R squared is to 1, the better the model is.  \n",
    "\n",
    "In order to implement the model in Python, we import the linear_model from sklearn into the codebase.  We feed the dependent variables, x, from the training set DataFrame and the independent variable, y, from the training set DataFrame into the fit(x, y) function from sklearn.  This will return the model to us that is created.  We can extract the coefficients from the model by using model.coef_ and extract the bias by using model.intercept_.  After we create the model, we can use our test dataset to see how well our model holds against the new dataset.  By using model.score(x_test, y_test), we can get back the score of the model.  The variables x_test and y_test both represent the same columns used to train the data but the values are from the test dataset.  \n",
    "\n",
    "\n"
   ]
  },
  {
   "cell_type": "code",
   "execution_count": 379,
   "metadata": {},
   "outputs": [],
   "source": [
    "# Set the cleaned dataset to the set of data that will be used to train the model\n",
    "train = clean_data"
   ]
  },
  {
   "cell_type": "code",
   "execution_count": 380,
   "metadata": {},
   "outputs": [],
   "source": [
    "# I use the LinearRegression function from sklearn to create the linear regression model\n",
    "lr = linear_model.LinearRegression()"
   ]
  },
  {
   "cell_type": "markdown",
   "metadata": {},
   "source": [
    "[Back to top](#Index)\n",
    "\n",
    "### 3.2 Analysis \n",
    "\n",
    "\n",
    "\n",
    "\n"
   ]
  },
  {
   "cell_type": "code",
   "execution_count": 381,
   "metadata": {},
   "outputs": [],
   "source": [
    "# The columns that will be used to train the model\n",
    "set_one = ['OverallQual', 'ExterQual']\n",
    "set_two = ['OverallQual', 'ExterQual', 'GrLivArea', 'GarageArea', 'KitchenQual']\n",
    "set_three = ['OverallQual', 'ExterQual', 'GrLivArea', 'GarageArea', 'KitchenQual', 'GarageCars']\n",
    "set_four = ['OverallQual', 'ExterQual', 'GrLivArea', 'GarageArea', 'KitchenQual', 'GarageCars', 'YearBuilt']\n",
    "set_five = ['OverallQual', 'ExterQual', 'GrLivArea', 'GarageArea', 'KitchenQual', 'GarageCars', 'YearBuilt', 'HeatingQC']\n",
    "set_six = ['OverallQual', 'ExterQual', 'GrLivArea', 'GarageArea', 'KitchenQual','YearBuilt']"
   ]
  },
  {
   "cell_type": "markdown",
   "metadata": {},
   "source": [
    "* x_train represents the indepedent columns with a high correlation to SalePrice that will be used to train the model\n",
    "* y_train represents the depedent variable SalePrice that we are trying to predict\n",
    "* The score of the model is r^2 which represents how much of the sale price data is explained by the X data variables."
   ]
  },
  {
   "cell_type": "markdown",
   "metadata": {},
   "source": [
    "Below uses different set of columns from the training dataset to train the linear regression model.  Then we use those sets to get the score of the model.  Below only contains the scores using the training dataset."
   ]
  },
  {
   "cell_type": "code",
   "execution_count": 382,
   "metadata": {},
   "outputs": [
    {
     "data": {
      "text/plain": [
       "0.769776538943687"
      ]
     },
     "execution_count": 382,
     "metadata": {},
     "output_type": "execute_result"
    }
   ],
   "source": [
    "# Set one score\n",
    "x_train = train[set_one]\n",
    "y_train = train['SalePrice']\n",
    "model = lr.fit(x_train, y_train)\n",
    "score = model.score(x_train, y_train)\n",
    "score "
   ]
  },
  {
   "cell_type": "code",
   "execution_count": 383,
   "metadata": {},
   "outputs": [
    {
     "data": {
      "text/plain": [
       "0.8237715289457415"
      ]
     },
     "execution_count": 383,
     "metadata": {},
     "output_type": "execute_result"
    }
   ],
   "source": [
    "# Set two score\n",
    "x_train = train[set_two]\n",
    "y_train = train['SalePrice']\n",
    "model = lr.fit(x_train, y_train)\n",
    "score = model.score(x_train, y_train)\n",
    "score "
   ]
  },
  {
   "cell_type": "code",
   "execution_count": 384,
   "metadata": {},
   "outputs": [
    {
     "data": {
      "text/plain": [
       "0.824961751427764"
      ]
     },
     "execution_count": 384,
     "metadata": {},
     "output_type": "execute_result"
    }
   ],
   "source": [
    "# Set three score\n",
    "x_train = train[set_three]\n",
    "y_train = train['SalePrice']\n",
    "model = lr.fit(x_train, y_train)\n",
    "score = model.score(x_train, y_train)\n",
    "score "
   ]
  },
  {
   "cell_type": "code",
   "execution_count": 385,
   "metadata": {},
   "outputs": [
    {
     "data": {
      "text/plain": [
       "0.8450299512449222"
      ]
     },
     "execution_count": 385,
     "metadata": {},
     "output_type": "execute_result"
    }
   ],
   "source": [
    "# Set four score\n",
    "x_train = train[set_four]\n",
    "y_train = train['SalePrice']\n",
    "model = lr.fit(x_train, y_train)\n",
    "score = model.score(x_train, y_train)\n",
    "score "
   ]
  },
  {
   "cell_type": "code",
   "execution_count": 386,
   "metadata": {},
   "outputs": [
    {
     "data": {
      "text/plain": [
       "0.8451882567115233"
      ]
     },
     "execution_count": 386,
     "metadata": {},
     "output_type": "execute_result"
    }
   ],
   "source": [
    "# Set five score\n",
    "x_train = train[set_five]\n",
    "y_train = train['SalePrice']\n",
    "model = lr.fit(x_train, y_train)\n",
    "score = model.score(x_train, y_train)\n",
    "score "
   ]
  },
  {
   "cell_type": "code",
   "execution_count": 387,
   "metadata": {},
   "outputs": [
    {
     "data": {
      "text/plain": [
       "0.843716481795795"
      ]
     },
     "execution_count": 387,
     "metadata": {},
     "output_type": "execute_result"
    }
   ],
   "source": [
    "# Set six score\n",
    "x_train = train[set_six]\n",
    "y_train = train['SalePrice']\n",
    "model = lr.fit(x_train, y_train)\n",
    "score = model.score(x_train, y_train)\n",
    "score "
   ]
  },
  {
   "cell_type": "markdown",
   "metadata": {},
   "source": [
    "[Back to top](#Index)\n",
    "\n",
    "### 3.3 Results\n",
    "\n",
    "\n"
   ]
  },
  {
   "cell_type": "markdown",
   "metadata": {},
   "source": [
    "The results I discovered was that increasing the amount of independent variables did not mean the models score was going to increase.  After getting the score of the model on the training set, I tested each model on the test data.  I discovered that the highest score on the test data was column set three, with a score of 0.78.  \n",
    "\n",
    "The other interesting discoveries was that the models score made a huge jump from column set one to column set two. \n",
    "\n",
    "The model's score went down on the test dataset on column set four through six with a score at ~0.75. The model's score from column set four through six did not change much. The score in the training dataset was ~.84 and the test dataset was ~.75."
   ]
  },
  {
   "cell_type": "markdown",
   "metadata": {},
   "source": [
    "The final column set that I decided to use for my model was of the following columns 'OverallQual', 'ExterQual', 'GrLivArea', 'GarageArea', 'KitchenQual', and 'GarageCars'. The score of the model on the training dataset with these columns was ~0.824 and the score on the test dataset was ~0.781. "
   ]
  },
  {
   "cell_type": "code",
   "execution_count": 388,
   "metadata": {},
   "outputs": [],
   "source": [
    "model_cols = set_three\n",
    "x_train = train[model_cols]\n",
    "y_train = train['SalePrice']\n",
    "model = lr.fit(x_train, y_train)"
   ]
  },
  {
   "cell_type": "code",
   "execution_count": 389,
   "metadata": {},
   "outputs": [
    {
     "data": {
      "text/plain": [
       "array([17665.26545183, 25624.99501943,    41.07489011,    79.59400665,\n",
       "       10179.51947658, -8875.89573741])"
      ]
     },
     "execution_count": 389,
     "metadata": {},
     "output_type": "execute_result"
    }
   ],
   "source": [
    "# The coefficients for the model\n",
    "model.coef_"
   ]
  },
  {
   "cell_type": "code",
   "execution_count": 390,
   "metadata": {},
   "outputs": [
    {
     "data": {
      "text/plain": [
       "-132883.48735087246"
      ]
     },
     "execution_count": 390,
     "metadata": {},
     "output_type": "execute_result"
    }
   ],
   "source": [
    "model.intercept_"
   ]
  },
  {
   "cell_type": "markdown",
   "metadata": {},
   "source": [
    "The final equation for my linear regression model to predict the sale price of a house is the following: \n",
    "\n",
    "SalePrice = (17665.26545183 * OverallQual) + (25624.99501943 * ExterQual) + (41.07489011 * GrLivArea) + (79.59400665 * GarageArea) + (10179.51947658 * KitchenQual) + (-8875.89573741 * GarageCars) + -132883.48735087246"
   ]
  },
  {
   "cell_type": "markdown",
   "metadata": {},
   "source": [
    "[Back to top](#Index)\n",
    "\n",
    "### 3.4 Verify Your Model Against Test Data\n",
    "\n",
    "Now that you have a prediction model, it's time to test your model against test data to confirm its accuracy on new data. The test data is located in the file `jtest.csv` \n",
    "\n",
    "What do you observe? Are these results in accordance with what you found earlier? How can you justify this?"
   ]
  },
  {
   "cell_type": "markdown",
   "metadata": {},
   "source": [
    "I need to read the test data into a dataframe, perform the same cleaning I did for the training set, and then change some of the categorical columns to numeric columns.  Then I can use the dataset to test my model."
   ]
  },
  {
   "cell_type": "code",
   "execution_count": 402,
   "metadata": {},
   "outputs": [
    {
     "data": {
      "text/plain": [
       "(100, 82)"
      ]
     },
     "execution_count": 402,
     "metadata": {},
     "output_type": "execute_result"
    }
   ],
   "source": [
    "# Reading the dataset into a dataframe\n",
    "test = pd.read_csv('jtest.csv')\n",
    "\n",
    "test.shape"
   ]
  },
  {
   "cell_type": "code",
   "execution_count": 403,
   "metadata": {},
   "outputs": [],
   "source": [
    "# Clean up columns to a numeric rating\n",
    "cleanup_cols = {'ExterQual': {'Ex':5, 'Gd':4, 'TA':3, 'Fa':2, 'Po':1},\n",
    "    'ExterCond': {'Ex':5, 'Gd':4, 'TA':3, 'Fa':2, 'Po':1},\n",
    "    'HeatingQC': {'Ex':5, 'Gd':4, 'TA':3, 'Fa':2, 'Po':1},\n",
    "    'CentralAir': {'N':0, 'Y':1},\n",
    "    'KitchenQual': {'Ex':5, 'Gd':4, 'TA':3, 'Fa':2, 'Po':1}}\n",
    "# Replaces the columns with the new values\n",
    "test = test.replace(cleanup_cols)"
   ]
  },
  {
   "cell_type": "code",
   "execution_count": 404,
   "metadata": {},
   "outputs": [],
   "source": [
    "# Filter out any columns that are not of a numeric type\n",
    "test = test.select_dtypes(include=[np.number])\n",
    "\n",
    "# Cleans up the data by replacing the null values with the mean\n",
    "test = test.interpolate()\n",
    "\n",
    "# Drop any columns that contain null values that were not able to be interpolated\n",
    "test = test.dropna(axis=1)"
   ]
  },
  {
   "cell_type": "code",
   "execution_count": 405,
   "metadata": {},
   "outputs": [
    {
     "data": {
      "text/html": [
       "<div>\n",
       "<style scoped>\n",
       "    .dataframe tbody tr th:only-of-type {\n",
       "        vertical-align: middle;\n",
       "    }\n",
       "\n",
       "    .dataframe tbody tr th {\n",
       "        vertical-align: top;\n",
       "    }\n",
       "\n",
       "    .dataframe thead th {\n",
       "        text-align: right;\n",
       "    }\n",
       "</style>\n",
       "<table border=\"1\" class=\"dataframe\">\n",
       "  <thead>\n",
       "    <tr style=\"text-align: right;\">\n",
       "      <th></th>\n",
       "      <th>0</th>\n",
       "    </tr>\n",
       "  </thead>\n",
       "  <tbody>\n",
       "    <tr>\n",
       "      <th>OverallQual</th>\n",
       "      <td>0</td>\n",
       "    </tr>\n",
       "    <tr>\n",
       "      <th>ExterQual</th>\n",
       "      <td>0</td>\n",
       "    </tr>\n",
       "    <tr>\n",
       "      <th>GrLivArea</th>\n",
       "      <td>0</td>\n",
       "    </tr>\n",
       "    <tr>\n",
       "      <th>GarageArea</th>\n",
       "      <td>0</td>\n",
       "    </tr>\n",
       "    <tr>\n",
       "      <th>KitchenQual</th>\n",
       "      <td>0</td>\n",
       "    </tr>\n",
       "    <tr>\n",
       "      <th>GarageCars</th>\n",
       "      <td>0</td>\n",
       "    </tr>\n",
       "  </tbody>\n",
       "</table>\n",
       "</div>"
      ],
      "text/plain": [
       "             0\n",
       "OverallQual  0\n",
       "ExterQual    0\n",
       "GrLivArea    0\n",
       "GarageArea   0\n",
       "KitchenQual  0\n",
       "GarageCars   0"
      ]
     },
     "execution_count": 405,
     "metadata": {},
     "output_type": "execute_result"
    }
   ],
   "source": [
    "# Verifies any of the columns that are used for the model don't contain any null values\n",
    "pd.DataFrame(test[model_cols].isnull().sum().sort_values(ascending=False))"
   ]
  },
  {
   "cell_type": "code",
   "execution_count": 416,
   "metadata": {},
   "outputs": [],
   "source": [
    "# Selecting the indepedent variable and dependent variable from the test dataset that I need for my model.\n",
    "x_test = test[model_cols]\n",
    "y_test = test['SalePrice']"
   ]
  },
  {
   "cell_type": "code",
   "execution_count": 421,
   "metadata": {},
   "outputs": [
    {
     "data": {
      "text/plain": [
       "array([177285.07312463, 207602.82871112, 140788.09097199, 190996.12676617,\n",
       "       183087.73038351, 267303.00018852, 101049.79597116, 106287.077621  ,\n",
       "       114987.47221983, 181970.28237349, 173707.72643147, 171009.81834732,\n",
       "       291319.61807308, 201554.85660778, 191445.93884529, 157678.41008482,\n",
       "       121757.34157785, 125539.2661591 , 261360.88245846, 189421.07446787,\n",
       "       146332.61239757, 103455.14155979, 138929.70834834, 190007.98864069,\n",
       "       162538.0259859 , 111492.11599266, 137140.96502874,  97359.29109048,\n",
       "       154194.89425899, 168410.99515365, 217975.46151438, 213983.85875494,\n",
       "       159457.15072932, 224626.7374926 , 150815.84073249, 191707.91152068,\n",
       "       129156.29837117, 212993.94591482, 253631.74791526, 182814.66613535,\n",
       "        80679.82300135, 239995.54116761, 159300.99951809, 223818.78921915,\n",
       "       156197.38138917, 199017.0815997 , 104247.93770482, 234370.83758743,\n",
       "       152727.31509763, 128287.7015667 , 119927.52336815, 264195.47889018,\n",
       "       184031.14666082, 159086.63954688, 145768.9513215 , 125539.72841102,\n",
       "       137568.73179721, 270167.83477794, 250177.18488128, 263212.16461027,\n",
       "       154444.62942522, 320246.84761439, 221880.05452418,  81419.17102336,\n",
       "       165394.6004459 , 118512.85949824, 180409.28653402, 286771.03529494,\n",
       "       221909.81124203, 234512.7581183 , 154402.13444848, 172815.51091263,\n",
       "       228934.3475032 , 158829.23705995, 179614.40904767, 207435.13754493,\n",
       "       214477.60349078, 195669.79243401, 363066.70325315, 148695.20376365,\n",
       "       196234.94221834, 180520.27598201, 129078.5300861 , 214656.06273601,\n",
       "       142376.50217491, 385596.22653026, 180161.00487551, 136327.42688241,\n",
       "       137405.89293235, 263799.8347366 , 280937.4910368 , 189887.90399838,\n",
       "       228027.41350356, 216682.34705152, 117486.28305818, 157596.26030459,\n",
       "       276624.40564379, 325007.19609235, 172077.57890809, 273702.28297055])"
      ]
     },
     "execution_count": 421,
     "metadata": {},
     "output_type": "execute_result"
    }
   ],
   "source": [
    "#Using the model that was created from the training dataset, apply it to the test dataset\n",
    "predictions = model.predict(x_test)\n",
    "predictions"
   ]
  },
  {
   "cell_type": "code",
   "execution_count": 408,
   "metadata": {},
   "outputs": [
    {
     "data": {
      "text/plain": [
       "0.7810863826223482"
      ]
     },
     "execution_count": 408,
     "metadata": {},
     "output_type": "execute_result"
    }
   ],
   "source": [
    "# This will return the percentage of the indepedent variables that are used to predict the sale price\n",
    "score = model.score(x_test,y_test)\n",
    "score"
   ]
  },
  {
   "cell_type": "code",
   "execution_count": 423,
   "metadata": {},
   "outputs": [
    {
     "data": {
      "image/png": "[encoded data removed]",
      "text/plain": [
       "<Figure size 432x288 with 1 Axes>"
      ]
     },
     "metadata": {
      "needs_background": "light"
     },
     "output_type": "display_data"
    }
   ],
   "source": [
    "plt.scatter(predictions, y_test, color='r')\n",
    "plt.title(\"Relationship between predicted and actual sale price \")\n",
    "plt.xlabel(\"Sale Price Predictions\")\n",
    "plt.ylabel(\"Sale Price Actual\")\n",
    "# plt.savefig('model.jpg', bbox_inches=\"tight\")"
   ]
  },
  {
   "cell_type": "code",
   "execution_count": 400,
   "metadata": {},
   "outputs": [
    {
     "data": {
      "text/plain": [
       "(array([ 4.,  2., 14., 33., 26., 11.,  4.,  4.,  1.,  1.]),\n",
       " array([-90007.19609235, -67129.44680843, -44251.69752451, -21373.94824059,\n",
       "          1503.80104333,  24381.55032725,  47259.29961117,  70137.04889509,\n",
       "         93014.79817901, 115892.54746293, 138770.29674685]),\n",
       " <BarContainer object of 10 artists>)"
      ]
     },
     "execution_count": 400,
     "metadata": {},
     "output_type": "execute_result"
    },
    {
     "data": {
      "image/png": "[encoded data removed]",
      "text/plain": [
       "<Figure size 432x288 with 1 Axes>"
      ]
     },
     "metadata": {
      "needs_background": "light"
     },
     "output_type": "display_data"
    }
   ],
   "source": [
    "# The below histogram should resemble a normal distribution which it does.\n",
    "plt.hist(y_test - predictions)"
   ]
  },
  {
   "cell_type": "markdown",
   "metadata": {},
   "source": [
    "[Back to top](#Index)\n",
    "\n",
    "## Conclusion\n",
    "\n",
    "After analyzing different models that contained different quantities of independent variables, I learned that the combination of independent variables that produced the best score when applied to the test dataset was OverallQual, ExterQual, GrLivArea, GarageArea, KitchenQual, and GarageCars.  I learned that adding more independent variables to the model did not always increase the score of the model, and sometimes it decreased the score.  \n"
   ]
  },
  {
   "cell_type": "markdown",
   "metadata": {},
   "source": [
    "\n",
    "[Back to top](#Index\n",
    ")\n",
    "## References\n",
    "\n"
   ]
  },
  {
   "cell_type": "markdown",
   "metadata": {},
   "source": [
    "* Dhingra, Deepanshi. \"All you need to know about your first Machine Learning model – Linear Regression.\" Analytics Vidhya. Data Science Blogathon, May 25, 2021. https://www.analyticsvidhya.com/blog/2021/05/all-you-need-to-know-about-your-first-machine-learning-model-linear-regression/#:~:text=In%20the%20most%20simple%20words,the%20dependent%20and%20independent%20variable.\n",
    "\n",
    "* Moffitt, Chris. \"Guide to Encoding Categorical Values in Python.\" Practical Business Python. February 06, 2017. https://pbpython.com/categorical-encoding.html. \n",
    "\n",
    "* Zach. \"How to Plot Line of Best Fit in Python (With Examples).\" Statology. October 05, 2021. https://www.statology.org/line-of-best-fit-python/."
   ]
  }
 ],
 "metadata": {
  "interpreter": {
   "hash": "bc506dbb6f1a34f1a33149aad56809b935d69f7000ff1b4b476b457393815c0b"
  },
  "kernelspec": {
   "display_name": "Python 3.9.7 ('base')",
   "language": "python",
   "name": "python3"
  },
  "language_info": {
   "codemirror_mode": {
    "name": "ipython",
    "version": 3
   },
   "file_extension": ".py",
   "mimetype": "text/x-python",
   "name": "python",
   "nbconvert_exporter": "python",
   "pygments_lexer": "ipython3",
   "version": "3.9.7"
  }
 },
 "nbformat": 4,
 "nbformat_minor": 4
}
